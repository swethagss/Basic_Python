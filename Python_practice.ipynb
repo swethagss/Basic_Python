{
 "cells": [
  {
   "cell_type": "markdown",
   "id": "785be5be-6af2-43ac-a5f7-2f3ce350862e",
   "metadata": {},
   "source": [
    "## Basic Python"
   ]
  },
  {
   "cell_type": "code",
   "execution_count": 5,
   "id": "011dd3ad-b851-4df0-9efd-726afef6350d",
   "metadata": {},
   "outputs": [
    {
     "name": "stdout",
     "output_type": "stream",
     "text": [
      "multiplication is 15\n"
     ]
    }
   ],
   "source": [
    "# Given two integer numbers, return their product only if the product is equal to or lower than 1000. Otherwise, return their sum.\n",
    "\n",
    "\n",
    "# a = int(input('enter first num'))\n",
    "# b = int(input('enter sec num'))\n",
    "\n",
    "# if a * b <= 1000:\n",
    "#     print(a*b)\n",
    "# else:\n",
    "#     print(a+b)\n",
    "\n",
    "\n",
    "def mult_or_sum(a,b):\n",
    "    product = a * b\n",
    "    if product <= 1000:\n",
    "        return product\n",
    "    else:\n",
    "        return a+b\n",
    "\n",
    "result = mult_or_sum(5,3)\n",
    "print(\"multiplication is\", result)\n",
    "\n"
   ]
  },
  {
   "cell_type": "code",
   "execution_count": 11,
   "id": "8f74e2eb-b6ac-4752-9698-4e64fccdbb88",
   "metadata": {},
   "outputs": [
    {
     "name": "stdout",
     "output_type": "stream",
     "text": [
      "Current Number 1 Previous Number  0  Sum:  1\n",
      "Current Number 2 Previous Number  1  Sum:  3\n",
      "Current Number 3 Previous Number  2  Sum:  5\n",
      "Current Number 4 Previous Number  3  Sum:  7\n",
      "Current Number 5 Previous Number  4  Sum:  9\n",
      "Current Number 6 Previous Number  5  Sum:  11\n",
      "Current Number 7 Previous Number  6  Sum:  13\n",
      "Current Number 8 Previous Number  7  Sum:  15\n",
      "Current Number 9 Previous Number  8  Sum:  17\n",
      "Current Number 10 Previous Number  9  Sum:  19\n"
     ]
    }
   ],
   "source": [
    "# Write a program to iterate the first 10 numbers, and in each iteration, print the sum of the current and previous number.\n",
    "\n",
    "previous_num =0\n",
    "for i in range(1,11):\n",
    "    x_sum = previous_num + i\n",
    "    print(\"Current Number\", i, \"Previous Number \", previous_num, \" Sum: \", x_sum)\n",
    "    previous_num =i\n",
    "\n"
   ]
  },
  {
   "cell_type": "code",
   "execution_count": 14,
   "id": "200c182f-6eca-47b5-9636-39b523519657",
   "metadata": {},
   "outputs": [
    {
     "name": "stdin",
     "output_type": "stream",
     "text": [
      "Enter a string swetha\n"
     ]
    },
    {
     "name": "stdout",
     "output_type": "stream",
     "text": [
      "s\n",
      "e\n",
      "h\n"
     ]
    }
   ],
   "source": [
    "#Write a program to accept a string from the user and display characters that are present at an even index number.\n",
    "\n",
    "#For example, str = \"pynative\" so you should display ‘p’, ‘n’, ‘t’, ‘v’.\n",
    "\n",
    "\n",
    "my_str = input(\"Enter a string\")\n",
    "\n",
    "x= list(my_str)\n",
    "for i in x[0::2]:\n",
    "    print(i)\n",
    "    \n",
    "\n"
   ]
  },
  {
   "cell_type": "code",
   "execution_count": 19,
   "id": "b3562487-e0e7-44b4-8fe2-3da27ac523d9",
   "metadata": {},
   "outputs": [
    {
     "name": "stdout",
     "output_type": "stream",
     "text": [
      "etha\n"
     ]
    }
   ],
   "source": [
    "#Write a program to remove characters from a string starting from zero up to n and return a new string.\n",
    "\n",
    "#For example:\n",
    "\n",
    "#remove_chars(\"pynative\", 4) so output must be tive. Here, we need to remove the first four characters from a string.\n",
    "#remove_chars(\"pynative\", 2) so output must be native. Here, we need to remove the first two characters from a string.\n",
    "\n",
    "\n",
    "def remove_str(word, n):\n",
    "    x= word[n::]\n",
    "    return x\n",
    "\n",
    "print(remove_str('swetha',2)) "
   ]
  },
  {
   "cell_type": "code",
   "execution_count": 20,
   "id": "d2e017c2-e84d-4eab-889b-801faa7d7fc6",
   "metadata": {},
   "outputs": [
    {
     "data": {
      "text/plain": [
       "True"
      ]
     },
     "execution_count": 20,
     "metadata": {},
     "output_type": "execute_result"
    }
   ],
   "source": [
    "#Write a function to return True if the first and last number of a given list is same. If numbers are different then return False.\n",
    "\n",
    "def first_last_same(numlist):\n",
    "    first_num = numlist[0]\n",
    "    last_num = numlist[-1]\n",
    "    if first_num == last_num:\n",
    "        return True\n",
    "    else:\n",
    "        return False\n",
    "\n",
    "first_last_same([2,5,7,10,2])\n",
    "    \n",
    "    "
   ]
  },
  {
   "cell_type": "code",
   "execution_count": 21,
   "id": "7dbee6fb-043e-40c5-b7a8-202b0529d1a7",
   "metadata": {},
   "outputs": [
    {
     "name": "stdout",
     "output_type": "stream",
     "text": [
      "10\n",
      "20\n",
      "55\n"
     ]
    }
   ],
   "source": [
    "#iterate the given list of numbers and print only those numbers which are divisible by 5\n",
    "\n",
    "num_list = [10, 20, 33, 46, 55]\n",
    "\n",
    "for i in num_list:\n",
    "    if i%5 ==0:\n",
    "        print(i)\n"
   ]
  },
  {
   "cell_type": "code",
   "execution_count": 22,
   "id": "2f660678-c42d-4bc4-bc37-15f5a7cd4a3d",
   "metadata": {},
   "outputs": [
    {
     "name": "stdout",
     "output_type": "stream",
     "text": [
      "2\n"
     ]
    }
   ],
   "source": [
    "#Return the count of a given substring from a string\n",
    "\n",
    "str_x = \"Emma is good developer. Emma is a writer\"\n",
    "# use count method of a str class\n",
    "cnt = str_x.count(\"Emma\")\n",
    "print(cnt)\n"
   ]
  },
  {
   "cell_type": "code",
   "execution_count": 23,
   "id": "dc9162a1-fd71-4cd5-a083-c3ff0b32c33d",
   "metadata": {},
   "outputs": [
    {
     "name": "stdout",
     "output_type": "stream",
     "text": [
      "\n",
      "\n",
      "1 \n",
      "\n",
      "2 2 \n",
      "\n",
      "3 3 3 \n",
      "\n",
      "4 4 4 4 \n",
      "\n",
      "5 5 5 5 5 \n",
      "\n",
      "6 6 6 6 6 6 \n",
      "\n",
      "7 7 7 7 7 7 7 \n",
      "\n",
      "8 8 8 8 8 8 8 8 \n",
      "\n",
      "9 9 9 9 9 9 9 9 9 \n",
      "\n"
     ]
    }
   ],
   "source": [
    "# pattern\n",
    "\n",
    "for num in range(10):\n",
    "    for i in range(num):\n",
    "        print (num, end=\" \") #print number\n",
    "    # new line after each row to display pattern correctly\n",
    "    print(\"\\n\")"
   ]
  },
  {
   "cell_type": "code",
   "execution_count": 29,
   "id": "dbbac438-ab96-4feb-bc07-d9c3e19406c7",
   "metadata": {},
   "outputs": [
    {
     "name": "stdout",
     "output_type": "stream",
     "text": [
      "False\n"
     ]
    }
   ],
   "source": [
    "#Write a program to check if the given number is a palindrome number.\n",
    "\n",
    "def is_pallindrome(number):\n",
    "    if number == number[::-1]:\n",
    "        return True\n",
    "    else:\n",
    "        return False\n",
    "\n",
    "print(is_pallindrome('swetha'))"
   ]
  },
  {
   "cell_type": "code",
   "execution_count": 34,
   "id": "1b974968-511c-48e2-bd6b-7ef66752fa69",
   "metadata": {},
   "outputs": [
    {
     "name": "stdout",
     "output_type": "stream",
     "text": [
      "New list is [27, 33, 55, 12, 86, 22]\n"
     ]
    }
   ],
   "source": [
    "#Create a new list from two list using the following condition\n",
    "\n",
    "#Given two list of numbers, write a program to create a new list such that the new list should contain \n",
    "#odd numbers from the first list and even numbers from the second list.\n",
    "\n",
    "def merge_list(num1, num2):\n",
    "    new_list = []\n",
    "\n",
    "    for i in num1:\n",
    "        if i%2 != 0:\n",
    "            new_list.append(i)\n",
    "\n",
    "    for i in num2:\n",
    "        if i%2 == 0:\n",
    "            new_list.append(i)\n",
    "\n",
    "    return new_list\n",
    "\n",
    "num1 = [24,27,33,32,55]\n",
    "num2 = [12,13,15,86,22]\n",
    "\n",
    "print(\"New list is\", merge_list(num1, num2))"
   ]
  },
  {
   "cell_type": "code",
   "execution_count": 42,
   "id": "84033897-e135-4dd3-9989-5715a66c1d8a",
   "metadata": {},
   "outputs": [
    {
     "name": "stdout",
     "output_type": "stream",
     "text": [
      "8765\n"
     ]
    }
   ],
   "source": [
    "#Write a Program to extract each digit from an integer in the reverse order.\n",
    "#For example, If the given int is 7536, the output shall be “6 3 5 7“, with a space separating the digits\n",
    "\n",
    "# num = (input(\"enter a number\"))\n",
    "\n",
    "# print(list(num[::-1]))\n",
    "\n",
    "\n",
    "def reverse_num(number):\n",
    "    s = str(number)\n",
    "    s = s[::-1]\n",
    "    number = int(s)\n",
    "    return number\n",
    "\n",
    "print(reverse_num(5678))\n",
    "    "
   ]
  },
  {
   "cell_type": "code",
   "execution_count": 50,
   "id": "ffd048c7-f54f-4b29-9471-86f2c4cc7d04",
   "metadata": {},
   "outputs": [
    {
     "name": "stdin",
     "output_type": "stream",
     "text": [
      "Display the multiplication table of: 7\n"
     ]
    },
    {
     "name": "stdout",
     "output_type": "stream",
     "text": [
      "7 x 1 = 7\n",
      "7 x 2 = 14\n",
      "7 x 3 = 21\n",
      "7 x 4 = 28\n",
      "7 x 5 = 35\n",
      "7 x 6 = 42\n",
      "7 x 7 = 49\n",
      "7 x 8 = 56\n",
      "7 x 9 = 63\n",
      "7 x 10 = 70\n"
     ]
    }
   ],
   "source": [
    "# print multiplication table\n",
    "\n",
    "num = int(input(\"Display the multiplication table of:\"))\n",
    "\n",
    "for i in range(1,11):\n",
    "    print(num, 'x', i, '=', num*i)"
   ]
  },
  {
   "cell_type": "code",
   "execution_count": 58,
   "id": "2f06b5dc-8f94-4eff-a14b-52b663e5d300",
   "metadata": {},
   "outputs": [
    {
     "name": "stdout",
     "output_type": "stream",
     "text": [
      "* * * * *  \n",
      "* * * *  \n",
      "* * *  \n",
      "* *  \n",
      "*  \n",
      " \n"
     ]
    }
   ],
   "source": [
    "#pattern problem\n",
    "\n",
    "for i in range(6,0,-1):\n",
    "    for j in range(0,i-1):\n",
    "        print('*', end = \" \")\n",
    "\n",
    "    print(\" \")\n",
    "    \n",
    "    "
   ]
  },
  {
   "cell_type": "code",
   "execution_count": 60,
   "id": "8050505d-ef46-45c1-a1be-0aafd64bd9ac",
   "metadata": {},
   "outputs": [
    {
     "data": {
      "text/plain": [
       "32"
      ]
     },
     "execution_count": 60,
     "metadata": {},
     "output_type": "execute_result"
    }
   ],
   "source": [
    "#Write a function called exponent(base, exp) that returns an int value of base raises to the power of exp.\n",
    "\n",
    "#Note here exp is a non-negative integer, and the base is an integer.\n",
    "\n",
    "def exponent(base, exp):\n",
    "    return base ** exp\n",
    "\n",
    "(exponent(2,5))"
   ]
  },
  {
   "cell_type": "code",
   "execution_count": 71,
   "id": "97fc3d2a-f169-4eea-96da-1833d1740a13",
   "metadata": {},
   "outputs": [
    {
     "name": "stdin",
     "output_type": "stream",
     "text": [
      "Enter a string my name is swetha\n",
      "Enter the character s\n"
     ]
    },
    {
     "name": "stdout",
     "output_type": "stream",
     "text": [
      "2\n"
     ]
    }
   ],
   "source": [
    "#Count the frequency of a particular character in a provided string.\n",
    "\n",
    "s= input(\"Enter a string\")\n",
    "word = input(\"Enter the character\")\n",
    "\n",
    "count = 0\n",
    "for i in s:\n",
    "    if i == word:\n",
    "        count += 1\n",
    "    \n",
    "    \n",
    "print(count)"
   ]
  },
  {
   "cell_type": "code",
   "execution_count": 72,
   "id": "e5ec5ba6-81f3-451e-9ed9-438b9ead7c45",
   "metadata": {},
   "outputs": [
    {
     "name": "stdout",
     "output_type": "stream",
     "text": [
      "swethag040\n"
     ]
    }
   ],
   "source": [
    "#extract username from mail id\n",
    "s = 'swethag040@gmail.com'\n",
    "pos = s.index('@')\n",
    "\n",
    "print(s[0:pos])"
   ]
  },
  {
   "cell_type": "code",
   "execution_count": 74,
   "id": "d5cae66c-4ece-4048-94e1-84e3735c6a98",
   "metadata": {},
   "outputs": [
    {
     "name": "stdin",
     "output_type": "stream",
     "text": [
      "Enter a string hi, how are you\n",
      "Enter a character you wud like to remove a\n"
     ]
    },
    {
     "name": "stdout",
     "output_type": "stream",
     "text": [
      " hi, how re you\n"
     ]
    }
   ],
   "source": [
    "#Write a program which can remove a particular character from a string.\n",
    "\n",
    "s = input(\"Enter a string\")\n",
    "term = input(\"Enter a character you wud like to remove\")\n",
    "\n",
    "result = \" \"\n",
    "\n",
    "for i in s:\n",
    "    if i != term:\n",
    "        result += i\n",
    "\n",
    "print(result)\n",
    "    "
   ]
  },
  {
   "cell_type": "code",
   "execution_count": 80,
   "id": "69cb6664-8185-43bc-bc59-b6cb07e7f4b8",
   "metadata": {},
   "outputs": [
    {
     "name": "stdin",
     "output_type": "stream",
     "text": [
      "Enter a string ih how are you\n"
     ]
    },
    {
     "name": "stdout",
     "output_type": "stream",
     "text": [
      "[' ih', ' how', ' are', ' you']\n"
     ]
    }
   ],
   "source": [
    "#Write a program to split the  words in a string without split()\n",
    "\n",
    "s = input(\"Enter a string\")\n",
    "\n",
    "temp = \" \"\n",
    "l = []\n",
    "\n",
    "for i in s:\n",
    "    if i != \" \":\n",
    "        temp = temp +i\n",
    "    else:\n",
    "        l.append(temp)\n",
    "        temp = \" \"\n",
    "l.append(temp)\n",
    "print(l)"
   ]
  },
  {
   "cell_type": "code",
   "execution_count": 82,
   "id": "7fa3bd6d-462c-49b1-b149-c6a998392d7f",
   "metadata": {},
   "outputs": [
    {
     "name": "stdout",
     "output_type": "stream",
     "text": [
      "['This', 'is', 'a', 'sentence']\n"
     ]
    }
   ],
   "source": [
    "sentence = 'This is a sentence'\n",
    "split_value = []\n",
    "tmp = ''\n",
    "for c in sentence:\n",
    "    if c == ' ':\n",
    "        split_value.append(tmp)\n",
    "        tmp = ''\n",
    "    else:\n",
    "        tmp += c\n",
    "if tmp:\n",
    "    split_value.append(tmp)\n",
    "\n",
    "print(split_value)"
   ]
  },
  {
   "cell_type": "code",
   "execution_count": 85,
   "id": "a9eecfaf-4b64-474b-b88d-3e1b093e79d1",
   "metadata": {},
   "outputs": [
    {
     "name": "stdin",
     "output_type": "stream",
     "text": [
      "Enter a string am professor\n"
     ]
    },
    {
     "name": "stdout",
     "output_type": "stream",
     "text": [
      "Am Professor\n"
     ]
    }
   ],
   "source": [
    "#Write a python program to convert a string to title case without using the title()\n",
    "\n",
    "s = input(\"Enter a string\")\n",
    "\n",
    "L =[]\n",
    "for i in s.split():\n",
    "    L.append(i[0].upper() + i[1:].lower())\n",
    "\n",
    "print(\" \".join(L))\n"
   ]
  },
  {
   "cell_type": "code",
   "execution_count": 1,
   "id": "f230e766-e557-4126-aa72-b9745d5368db",
   "metadata": {},
   "outputs": [
    {
     "name": "stdin",
     "output_type": "stream",
     "text": [
      "enter first num 2\n",
      "enter sec num 3\n"
     ]
    },
    {
     "name": "stdout",
     "output_type": "stream",
     "text": [
      "6\n"
     ]
    }
   ],
   "source": [
    "#Write a program to accept two numbers from the user and calculate multiplication\n",
    "\n",
    "m1 = int(input(\"enter first num\"))\n",
    "m2 = int(input(\"enter sec num\"))\n",
    "\n",
    "print(m1*m2)"
   ]
  },
  {
   "cell_type": "code",
   "execution_count": 3,
   "id": "c9868c30-aff6-47c9-91bf-befb5c3bc8b8",
   "metadata": {},
   "outputs": [
    {
     "name": "stdout",
     "output_type": "stream",
     "text": [
      "Name**Is**James\n"
     ]
    }
   ],
   "source": [
    "#Display three string “Name”, “Is”, “James” as “Name**Is**James\n",
    "\n",
    "print(\"Name\", \"Is\", \"James\" , sep =\"**\")"
   ]
  },
  {
   "cell_type": "code",
   "execution_count": 7,
   "id": "1dc5b8bb-1a71-474c-a465-641940fce358",
   "metadata": {},
   "outputs": [
    {
     "name": "stdout",
     "output_type": "stream",
     "text": [
      "Enter the numbers\n"
     ]
    },
    {
     "name": "stdin",
     "output_type": "stream",
     "text": [
      " 2.3\n"
     ]
    },
    {
     "name": "stdout",
     "output_type": "stream",
     "text": [
      "Enter the numbers\n"
     ]
    },
    {
     "name": "stdin",
     "output_type": "stream",
     "text": [
      " 2.44\n"
     ]
    },
    {
     "name": "stdout",
     "output_type": "stream",
     "text": [
      "Enter the numbers\n"
     ]
    },
    {
     "name": "stdin",
     "output_type": "stream",
     "text": [
      " 4.5\n"
     ]
    },
    {
     "name": "stdout",
     "output_type": "stream",
     "text": [
      "Enter the numbers\n"
     ]
    },
    {
     "name": "stdin",
     "output_type": "stream",
     "text": [
      " 55.5\n"
     ]
    },
    {
     "name": "stdout",
     "output_type": "stream",
     "text": [
      "Enter the numbers\n"
     ]
    },
    {
     "name": "stdin",
     "output_type": "stream",
     "text": [
      " 44.5\n"
     ]
    },
    {
     "name": "stdout",
     "output_type": "stream",
     "text": [
      "List of elements are: [2.3, 2.44, 4.5, 55.5, 44.5]\n"
     ]
    }
   ],
   "source": [
    "# Accept a list of 5 float numbers as an input from the user\n",
    "\n",
    "numbers = []\n",
    "\n",
    "for i in range(0,5):\n",
    "    print(\"Enter the numbers\")\n",
    "    item = float(input())\n",
    "    numbers.append(item)\n",
    "\n",
    "print(\"List of elements are:\", numbers)"
   ]
  },
  {
   "cell_type": "code",
   "execution_count": 10,
   "id": "68d1a3a9-f1db-4adb-9484-7404e03d91b6",
   "metadata": {},
   "outputs": [
    {
     "name": "stdout",
     "output_type": "stream",
     "text": [
      "Enter the 3 names:\n"
     ]
    },
    {
     "name": "stdin",
     "output_type": "stream",
     "text": [
      " g\n"
     ]
    },
    {
     "name": "stdout",
     "output_type": "stream",
     "text": [
      "Enter the 3 names:\n"
     ]
    },
    {
     "name": "stdin",
     "output_type": "stream",
     "text": [
      " s\n"
     ]
    },
    {
     "name": "stdout",
     "output_type": "stream",
     "text": [
      "Enter the 3 names:\n"
     ]
    },
    {
     "name": "stdin",
     "output_type": "stream",
     "text": [
      " s\n"
     ]
    },
    {
     "name": "stdout",
     "output_type": "stream",
     "text": [
      "['g', 's', 's']\n"
     ]
    }
   ],
   "source": [
    "# Write a program to take three names as input from a user in the single input() function call.\n",
    "\n",
    "names = []\n",
    "\n",
    "for i in range(0,3):\n",
    "    print(\"Enter the 3 names:\")\n",
    "    item = input()\n",
    "    names.append(item)\n",
    "\n",
    "print(names)"
   ]
  },
  {
   "cell_type": "code",
   "execution_count": 12,
   "id": "83de130b-6c52-447a-951c-1cbb05125e53",
   "metadata": {},
   "outputs": [
    {
     "name": "stdout",
     "output_type": "stream",
     "text": [
      " I have 1000 dollars so I can buy 3 football for 450 dollars\n"
     ]
    }
   ],
   "source": [
    "# Write a program to use string.format() method to format the following three variables as per the expected output\n",
    "\n",
    "totalMoney = 1000\n",
    "quantity = 3\n",
    "price = 450\n",
    "\n",
    "#I have 1000 dollars so I can buy 3 football for 450.00 dollars\n",
    "\n",
    "print(f\" I have {totalMoney} dollars so I can buy {quantity} football for {price} dollars\")"
   ]
  },
  {
   "cell_type": "code",
   "execution_count": 16,
   "id": "74c3db48-be9e-4742-a970-43a6b4bee9c4",
   "metadata": {},
   "outputs": [
    {
     "name": "stdout",
     "output_type": "stream",
     "text": [
      "1\n",
      "2\n",
      "3\n",
      "4\n",
      "5\n",
      "6\n",
      "7\n",
      "8\n",
      "9\n",
      "10\n"
     ]
    }
   ],
   "source": [
    "# Print First 10 natural numbers using while loop\n",
    "\n",
    "i= 1\n",
    "\n",
    "while i <=10:\n",
    "    print(i)\n",
    "    i += 1"
   ]
  },
  {
   "cell_type": "code",
   "execution_count": 34,
   "id": "68256a5b-15fb-4aad-a65c-3d8328a23ada",
   "metadata": {},
   "outputs": [
    {
     "name": "stdin",
     "output_type": "stream",
     "text": [
      "Enter no of rows: 5\n"
     ]
    },
    {
     "name": "stdout",
     "output_type": "stream",
     "text": [
      "1  \n",
      "1 2  \n",
      "1 2 3  \n",
      "1 2 3 4  \n",
      "1 2 3 4 5  \n"
     ]
    }
   ],
   "source": [
    "# pattern\n",
    "\n",
    "rows = int(input(\"Enter no of rows:\"))\n",
    "\n",
    "for i in range(1, rows+1):\n",
    "    for j in range(1, i+1):\n",
    "        print(j, end = \" \")\n",
    "    print(\" \")\n",
    "        \n",
    "    "
   ]
  },
  {
   "cell_type": "code",
   "execution_count": 33,
   "id": "640b3b3a-cd87-4c0c-a2bf-809ab9c44442",
   "metadata": {},
   "outputs": [
    {
     "name": "stdin",
     "output_type": "stream",
     "text": [
      "enter the number: 100\n"
     ]
    },
    {
     "name": "stdout",
     "output_type": "stream",
     "text": [
      "5050\n"
     ]
    }
   ],
   "source": [
    "# Calculate the sum of all numbers from 1 to a given number\n",
    "\n",
    "#Write a program to accept a number from a user and calculate the sum of all numbers from 1 to a given number\n",
    "\n",
    "#For example, if the user entered 10 the output should be 55 (1+2+3+4+5+6+7+8+9+10)\n",
    "\n",
    "sum = 0\n",
    "n = int(input(\"enter the number:\"))\n",
    "\n",
    "for i in range(0, n+1):\n",
    "    sum += i\n",
    "print(sum)"
   ]
  },
  {
   "cell_type": "code",
   "execution_count": 38,
   "id": "eea61e1f-15e6-40cd-bb76-679997037de7",
   "metadata": {},
   "outputs": [
    {
     "name": "stdin",
     "output_type": "stream",
     "text": [
      "Enter number: 5\n"
     ]
    },
    {
     "name": "stdout",
     "output_type": "stream",
     "text": [
      "5 x 1 = 5\n",
      "5 x 2 = 10\n",
      "5 x 3 = 15\n",
      "5 x 4 = 20\n",
      "5 x 5 = 25\n",
      "5 x 6 = 30\n",
      "5 x 7 = 35\n",
      "5 x 8 = 40\n",
      "5 x 9 = 45\n",
      "5 x 10 = 50\n"
     ]
    }
   ],
   "source": [
    "# Write a program to print multiplication table of a given number\n",
    "\n",
    "n = int(input(\"Enter number:\"))\n",
    "\n",
    "for i in range(1, 11):\n",
    "        print(n ,'x', i ,'=', n * i)\n",
    "\n",
    "\n"
   ]
  },
  {
   "cell_type": "code",
   "execution_count": 43,
   "id": "9e4663fe-149a-490e-9a5a-f468598146b3",
   "metadata": {},
   "outputs": [
    {
     "name": "stdout",
     "output_type": "stream",
     "text": [
      "75\n",
      "150\n",
      "145\n"
     ]
    }
   ],
   "source": [
    "# Display numbers from a list using loop\n",
    "# The number must be divisible by five\n",
    "# If the number is greater than 150, then skip it and move to the next number\n",
    "# If the number is greater than 500, then stop the loop\n",
    "\n",
    "numbers = [12, 75, 150, 180, 145, 525, 50]\n",
    "\n",
    "for i in numbers:\n",
    "    if i > 500:\n",
    "        break\n",
    "    elif i > 150:\n",
    "        continue\n",
    "    elif i % 5 == 0:\n",
    "        print(i)\n",
    "    "
   ]
  },
  {
   "cell_type": "code",
   "execution_count": 47,
   "id": "7222e0e7-42f0-4c53-8a12-f2875ef48639",
   "metadata": {},
   "outputs": [
    {
     "name": "stdin",
     "output_type": "stream",
     "text": [
      "Enter the number 1234\n"
     ]
    },
    {
     "name": "stdout",
     "output_type": "stream",
     "text": [
      "Number of digits: 4\n"
     ]
    }
   ],
   "source": [
    "# Count the total number of digits in a number\n",
    "num = int(input(\"Enter the number\"))\n",
    "count = 0\n",
    "\n",
    "while num != 0:\n",
    "    num //= 10\n",
    "    count += 1\n",
    "\n",
    "print(\"Number of digits: \" + str(count))\n"
   ]
  },
  {
   "cell_type": "code",
   "execution_count": 53,
   "id": "d9040a8d-40cd-4927-9ead-6661edcf64ae",
   "metadata": {},
   "outputs": [
    {
     "name": "stdout",
     "output_type": "stream",
     "text": [
      "5 4 3 2 1 \n",
      "4 3 2 1 \n",
      "3 2 1 \n",
      "2 1 \n",
      "1 \n",
      "\n"
     ]
    }
   ],
   "source": [
    "# pattern\n",
    "\n",
    "n = 5\n",
    "k = 5\n",
    "for i in range(0,n+1):\n",
    "    for j in range(k-i,0,-1):\n",
    "        print(j,end=' ')\n",
    "    print()"
   ]
  },
  {
   "cell_type": "code",
   "execution_count": 57,
   "id": "08d92fa6-760b-473d-a818-d44cc9aff01f",
   "metadata": {},
   "outputs": [
    {
     "name": "stdout",
     "output_type": "stream",
     "text": [
      "50 40 30 20 10 "
     ]
    }
   ],
   "source": [
    "# Print list in reverse order using a loop\n",
    "\n",
    "list1 = [10, 20, 30, 40, 50]\n",
    "\n",
    "new_list = reversed(list1)\n",
    "\n",
    "for i in new_list:\n",
    "    print(i, end = \" \")"
   ]
  },
  {
   "cell_type": "code",
   "execution_count": 65,
   "id": "10bf52c0-cda2-4718-87d1-68c94802f045",
   "metadata": {},
   "outputs": [
    {
     "name": "stdout",
     "output_type": "stream",
     "text": [
      "50 40 30 20 10 "
     ]
    }
   ],
   "source": [
    "list1 = [10, 20, 30, 40, 50]\n",
    "\n",
    "size = len(list1) -1\n",
    "for i in range(size, -1, -1):\n",
    "    print(list1[i], end = \" \")"
   ]
  },
  {
   "cell_type": "code",
   "execution_count": 69,
   "id": "68bb3b17-f525-484d-9c84-fcdb2e19e191",
   "metadata": {},
   "outputs": [
    {
     "name": "stdout",
     "output_type": "stream",
     "text": [
      "-10\n",
      "-9\n",
      "-8\n",
      "-7\n",
      "-6\n",
      "-5\n",
      "-4\n",
      "-3\n",
      "-2\n",
      "-1\n"
     ]
    }
   ],
   "source": [
    "# Display numbers from -10 to -1 using for loop\n",
    "\n",
    "for i in range(-10,0,1):\n",
    "    \n",
    "    print(i)"
   ]
  },
  {
   "cell_type": "code",
   "execution_count": 1,
   "id": "fb08837b-e67e-4a93-a60e-78f64cb3ba7c",
   "metadata": {},
   "outputs": [
    {
     "name": "stdout",
     "output_type": "stream",
     "text": [
      "Prime numbers between 900 and 1000 are:\n",
      "907\n",
      "911\n",
      "919\n",
      "929\n",
      "937\n",
      "941\n",
      "947\n",
      "953\n",
      "967\n",
      "971\n",
      "977\n",
      "983\n",
      "991\n",
      "997\n"
     ]
    }
   ],
   "source": [
    "# Write a program to display all prime numbers within a range\n",
    "\n",
    "lower = 900\n",
    "upper = 1000\n",
    "\n",
    "print(\"Prime numbers between\", lower, \"and\", upper, \"are:\")\n",
    "\n",
    "for num in range(lower, upper+1):\n",
    "    if num >1:\n",
    "        for i in range(2, num):\n",
    "            if num % i == 0:\n",
    "                break\n",
    "        else:\n",
    "            print(num)"
   ]
  },
  {
   "cell_type": "code",
   "execution_count": 2,
   "id": "171d4f77-47d2-4fd8-8a05-e36f79f355cc",
   "metadata": {},
   "outputs": [
    {
     "name": "stdin",
     "output_type": "stream",
     "text": [
      "Enter the number: 10\n"
     ]
    },
    {
     "name": "stdout",
     "output_type": "stream",
     "text": [
      "0 1 1 2 3 5 8 13 21 34 "
     ]
    }
   ],
   "source": [
    "# Display Fibonacci series up to 10 terms\n",
    "\n",
    "num1 = 0\n",
    "num2 = 1\n",
    "\n",
    "n = int(input(\"Enter the number:\"))\n",
    "\n",
    "for i in range(n):\n",
    "    print(num1, end = \" \")\n",
    "    res = num1 + num2\n",
    "\n",
    "    num1 = num2\n",
    "    num2 = res"
   ]
  },
  {
   "cell_type": "code",
   "execution_count": 4,
   "id": "966ca41d-4202-412a-b5f7-c0179b804351",
   "metadata": {},
   "outputs": [
    {
     "name": "stdin",
     "output_type": "stream",
     "text": [
      "ENter the number: 10\n"
     ]
    },
    {
     "name": "stdout",
     "output_type": "stream",
     "text": [
      "The factorial of 10 is 3628800\n"
     ]
    }
   ],
   "source": [
    "# factorial of given number\n",
    "\n",
    "num = int(input(\"ENter the number:\"))\n",
    "\n",
    "factorial = 1\n",
    "\n",
    "if num <0:\n",
    "    print(\"Factorial dosent exist for negative numbers\")\n",
    "elif num ==0:\n",
    "    print(\"Factorial of 0 is 1\")\n",
    "\n",
    "else:\n",
    "    for i in range(1, num+1):\n",
    "        factorial = factorial * i\n",
    "    print(\"The factorial of\", num, \"is\", factorial)"
   ]
  },
  {
   "cell_type": "code",
   "execution_count": 10,
   "id": "baf75bcc-ae3b-49d5-99aa-1b65e9118f32",
   "metadata": {},
   "outputs": [
    {
     "name": "stdin",
     "output_type": "stream",
     "text": [
      "Enter the integer: 123\n"
     ]
    },
    {
     "name": "stdout",
     "output_type": "stream",
     "text": [
      "321\n"
     ]
    }
   ],
   "source": [
    "#  Reverse a given integer number\n",
    "\n",
    "n = str(input(\"Enter the integer:\"))\n",
    "\n",
    "reverse_num = n[::-1]\n",
    "print(int(n[::-1]))\n",
    "\n",
    "    "
   ]
  },
  {
   "cell_type": "code",
   "execution_count": 13,
   "id": "01c09c1d-afb2-4772-8234-bf848e622053",
   "metadata": {},
   "outputs": [
    {
     "name": "stdout",
     "output_type": "stream",
     "text": [
      "20 40 60 80 100 "
     ]
    }
   ],
   "source": [
    "# Use a loop to display elements from a given list present at odd index positions\n",
    "\n",
    "my_list = [10, 20, 30, 40, 50, 60, 70, 80, 90, 100]\n",
    "\n",
    "for i in my_list[1::2]:\n",
    "    print(i, end = \" \")"
   ]
  },
  {
   "cell_type": "code",
   "execution_count": 20,
   "id": "d2e28567-d7c6-4105-bc44-4a3095c7b5cb",
   "metadata": {},
   "outputs": [
    {
     "name": "stdin",
     "output_type": "stream",
     "text": [
      "Enter the no of sequence require 4\n",
      "Enter the number 2\n"
     ]
    },
    {
     "name": "stdout",
     "output_type": "stream",
     "text": [
      "2+22+222+2222+\n",
      "sum of above series is: 2468\n"
     ]
    }
   ],
   "source": [
    "# Find the sum of the series upto n terms\n",
    "\n",
    "n = int(input(\"Enter the no of sequence require\"))\n",
    "\n",
    "start = int(input(\"Enter the number\"))\n",
    "sum_seq = 0\n",
    "\n",
    "for i in range(0, n):\n",
    "    print(start, end = \"+\")\n",
    "    sum_seq += start\n",
    "    start = start * 10 + 2\n",
    "    \n",
    "print(\"\\nsum of above series is:\", sum_seq)"
   ]
  },
  {
   "cell_type": "code",
   "execution_count": 23,
   "id": "b18066c5-2d72-4a79-b214-ca431f32dcb0",
   "metadata": {},
   "outputs": [
    {
     "name": "stdin",
     "output_type": "stream",
     "text": [
      "Enter the rows: 5\n"
     ]
    },
    {
     "name": "stdout",
     "output_type": "stream",
     "text": [
      "* \n",
      "* * \n",
      "* * * \n",
      "* * * * \n",
      "* * * * * \n",
      "* * * * * * \n",
      "* * * * \n",
      "* * * \n",
      "* * \n",
      "* \n",
      "\n"
     ]
    }
   ],
   "source": [
    "# pattern\n",
    "\n",
    "rows = int(input(\"Enter the rows:\"))\n",
    "\n",
    "for i in range(0, rows+1):\n",
    "    for j in range(0, i+1):\n",
    "        print(\"*\", end = \" \")\n",
    "    print('\\r')\n",
    "\n",
    "for i in range(rows, 0,-1):\n",
    "    for j in range(0, i-1):\n",
    "        print(\"*\", end = \" \")\n",
    "    print('\\r')\n",
    "        \n",
    "           "
   ]
  },
  {
   "cell_type": "code",
   "execution_count": 24,
   "id": "387d68aa-9288-4aad-bda3-91907785ad5f",
   "metadata": {},
   "outputs": [
    {
     "name": "stdout",
     "output_type": "stream",
     "text": [
      "[500, 400, 300, 200, 100]\n"
     ]
    }
   ],
   "source": [
    "# Reverse a list in Python\n",
    "list1 = [100, 200, 300, 400, 500]\n",
    "\n",
    "print(list1[::-1])"
   ]
  },
  {
   "cell_type": "code",
   "execution_count": 28,
   "id": "6c6293fa-db64-4972-82ce-6a1c0484742e",
   "metadata": {},
   "outputs": [
    {
     "name": "stdout",
     "output_type": "stream",
     "text": [
      "['My', 'name', 'is', 'Kelly']\n"
     ]
    }
   ],
   "source": [
    "# Concatenate two lists index-wise\n",
    "\n",
    "list1 = [\"M\", \"na\", \"i\", \"Ke\"]\n",
    "list2 = [\"y\", \"me\", \"s\", \"lly\"]\n",
    "\n",
    "list3 = [x+y for x,y in zip(list1,list2)]\n",
    "print(list3)"
   ]
  },
  {
   "cell_type": "code",
   "execution_count": 30,
   "id": "98a91261-9545-444e-9714-9cea64042cca",
   "metadata": {},
   "outputs": [
    {
     "name": "stdout",
     "output_type": "stream",
     "text": [
      "[1, 4, 9, 16, 25, 36, 49]\n"
     ]
    }
   ],
   "source": [
    "# Turn every item of a list into its square\n",
    "\n",
    "numbers = [1, 2, 3, 4, 5, 6, 7]\n",
    "\n",
    "square = [i ** 2 for i in numbers]\n",
    "print(square)"
   ]
  },
  {
   "cell_type": "code",
   "execution_count": 33,
   "id": "331e0654-388b-4157-8962-9bf22b27d68a",
   "metadata": {},
   "outputs": [
    {
     "name": "stdout",
     "output_type": "stream",
     "text": [
      "['Hello Dear', 'Hello Sir', 'take Dear', 'take Sir']\n"
     ]
    }
   ],
   "source": [
    "# Concatenate two lists in the following order\n",
    "list1 = [\"Hello \", \"take \"]\n",
    "list2 = [\"Dear\", \"Sir\"]\n",
    "\n",
    "list3 = [x+y for x in list1 for y in list2]\n",
    "print(list3)"
   ]
  },
  {
   "cell_type": "code",
   "execution_count": 36,
   "id": "4c9b2f34-45ba-4dec-ab5c-ec85dfb6bdb2",
   "metadata": {},
   "outputs": [
    {
     "name": "stdout",
     "output_type": "stream",
     "text": [
      "10 400\n",
      "20 300\n",
      "30 200\n",
      "40 100\n"
     ]
    }
   ],
   "source": [
    "# Iterate both lists simultaneously\n",
    "\n",
    "list1 = [10, 20, 30, 40]\n",
    "list2 = [100, 200, 300, 400]\n",
    "\n",
    "for x,y in zip(list1,list2[::-1]):\n",
    "    print(x,y)"
   ]
  },
  {
   "cell_type": "code",
   "execution_count": 38,
   "id": "dd23a111-40b1-4dc5-9ac4-38c8a06c66ee",
   "metadata": {},
   "outputs": [
    {
     "name": "stdout",
     "output_type": "stream",
     "text": [
      "['Mike', 'Emma', 'Kelly', 'Brad']\n"
     ]
    }
   ],
   "source": [
    "# Remove empty strings from the list of strings\n",
    "\n",
    "list1 = [\"Mike\", \"\", \"Emma\", \"Kelly\", \"\", \"Brad\"]\n",
    "\n",
    "print(list(filter(None,list1)))"
   ]
  },
  {
   "cell_type": "code",
   "execution_count": 41,
   "id": "922295fa-f628-4744-bb65-37a2d4bc39eb",
   "metadata": {},
   "outputs": [
    {
     "name": "stdout",
     "output_type": "stream",
     "text": [
      "[10, 20, [300, 400, [5000, 6000, 7000], 500], 30, 40]\n"
     ]
    }
   ],
   "source": [
    "# Add new item to list after a specified item\n",
    "list1 = [10, 20, [300, 400, [5000, 6000], 500], 30, 40]\n",
    "\n",
    "(list1[2][2].append(7000))\n",
    "print(list1)"
   ]
  },
  {
   "cell_type": "code",
   "execution_count": 43,
   "id": "65b35066-eb87-48f1-8e76-41bce88cda20",
   "metadata": {},
   "outputs": [
    {
     "name": "stdout",
     "output_type": "stream",
     "text": [
      "['a', 'b', ['c', ['d', 'e', ['f', 'g', 'h', 'i', 'j'], 'k'], 'l'], 'm', 'n']\n"
     ]
    }
   ],
   "source": [
    "# Extend nested list by adding the sublist\n",
    "list1 = [\"a\", \"b\", [\"c\", [\"d\", \"e\", [\"f\", \"g\"], \"k\"], \"l\"], \"m\", \"n\"]\n",
    "sub_list = [\"h\", \"i\", \"j\"]\n",
    "\n",
    "list1[2][1][2].extend(sub_list)\n",
    "\n",
    "print(list1)"
   ]
  },
  {
   "cell_type": "code",
   "execution_count": 45,
   "id": "24200429-ae87-4723-aa29-8a63042db564",
   "metadata": {},
   "outputs": [
    {
     "name": "stdout",
     "output_type": "stream",
     "text": [
      "[5, 10, 15, 200, 25, 50, 20]\n"
     ]
    }
   ],
   "source": [
    "# Replace list’s item with new value if found\n",
    "\n",
    "list1 = [5, 10, 15, 20, 25, 50, 20]\n",
    "\n",
    "list1[3] = 200\n",
    "print(list1)"
   ]
  },
  {
   "cell_type": "code",
   "execution_count": 49,
   "id": "f10cf626-d4aa-40ca-a626-c06aaa5acb27",
   "metadata": {},
   "outputs": [
    {
     "data": {
      "text/plain": [
       "[5, 15, 25, 50]"
      ]
     },
     "execution_count": 49,
     "metadata": {},
     "output_type": "execute_result"
    }
   ],
   "source": [
    "# Remove all occurrences of a specific item from a list\n",
    "list1 = [5, 20, 15, 20, 25, 50, 20]\n",
    "\n",
    "def remove_value(item, num):\n",
    "    return [i for i in item if i != num]\n",
    "\n",
    "remove_value(list1, 20)"
   ]
  },
  {
   "cell_type": "code",
   "execution_count": 51,
   "id": "23408a99-d7e6-4fb8-a6b8-bdb576cc3f45",
   "metadata": {},
   "outputs": [
    {
     "name": "stdout",
     "output_type": "stream",
     "text": [
      "PYnative\n"
     ]
    }
   ],
   "source": [
    "list1 = ['xyz', 'zara', 'PYnative']\n",
    "print (min(list1))"
   ]
  },
  {
   "cell_type": "code",
   "execution_count": 52,
   "id": "93c25db7-1b8b-4ca3-b155-c16c46fa4b55",
   "metadata": {},
   "outputs": [
    {
     "name": "stdout",
     "output_type": "stream",
     "text": [
      "[25, 10]\n"
     ]
    }
   ],
   "source": [
    "aList = [5, 10, 15, 25]\n",
    "print(aList[::-2])"
   ]
  },
  {
   "cell_type": "code",
   "execution_count": 53,
   "id": "331cb1de-3039-4e85-876e-2fd8e1852f2b",
   "metadata": {},
   "outputs": [
    {
     "data": {
      "text/plain": [
       "(50, 40, 30, 20, 10)"
      ]
     },
     "execution_count": 53,
     "metadata": {},
     "output_type": "execute_result"
    }
   ],
   "source": [
    "# Reverse the tuple\n",
    "\n",
    "tuple1 = (10, 20, 30, 40, 50)\n",
    "tuple1[::-1]"
   ]
  },
  {
   "cell_type": "code",
   "execution_count": 54,
   "id": "b376b3f6-3096-4fde-9a56-2754de962a67",
   "metadata": {},
   "outputs": [
    {
     "data": {
      "text/plain": [
       "20"
      ]
     },
     "execution_count": 54,
     "metadata": {},
     "output_type": "execute_result"
    }
   ],
   "source": [
    "# Access value 20 from the tuple\n",
    "tuple1 = (\"Orange\", [10, 20, 30], (5, 15, 25))\n",
    "\n",
    "tuple1[1][1]\n"
   ]
  },
  {
   "cell_type": "code",
   "execution_count": 56,
   "id": "528a869f-a19d-4959-b82a-5ab55b291af4",
   "metadata": {},
   "outputs": [
    {
     "name": "stdout",
     "output_type": "stream",
     "text": [
      "<class 'tuple'>\n"
     ]
    }
   ],
   "source": [
    "# Create a tuple with single item 50\n",
    "item = (50,)\n",
    "\n",
    "print(type(item))"
   ]
  },
  {
   "cell_type": "code",
   "execution_count": 59,
   "id": "0a316013-c722-424b-b3c0-96c79d2f3411",
   "metadata": {},
   "outputs": [
    {
     "name": "stdout",
     "output_type": "stream",
     "text": [
      "10\n",
      "20\n",
      "30\n",
      "40\n"
     ]
    }
   ],
   "source": [
    "# Unpack the tuple into 4 variables\n",
    "\n",
    "tuple1 = (10, 20, 30, 40)\n",
    "\n",
    "(a,b,c,d) = tuple1\n",
    "\n",
    "print(a)\n",
    "print(b)\n",
    "print(c)\n",
    "print(d)"
   ]
  },
  {
   "cell_type": "code",
   "execution_count": 61,
   "id": "5395b447-89d0-4391-b82c-c2dfe9ada710",
   "metadata": {},
   "outputs": [
    {
     "name": "stdout",
     "output_type": "stream",
     "text": [
      "(99, 88)\n",
      "(11, 22)\n"
     ]
    }
   ],
   "source": [
    "# Swap two tuples in Python\n",
    "\n",
    "tuple1 = (11, 22)\n",
    "tuple2 = (99, 88)\n",
    "\n",
    "tuple1, tuple2 = tuple2, tuple1\n",
    " \n",
    "\n",
    "print(tuple1)\n",
    "print(tuple2)"
   ]
  },
  {
   "cell_type": "code",
   "execution_count": 63,
   "id": "b41ec8b4-3fe2-4f9e-ab95-dc8a4ba40096",
   "metadata": {},
   "outputs": [
    {
     "data": {
      "text/plain": [
       "(44, 55)"
      ]
     },
     "execution_count": 63,
     "metadata": {},
     "output_type": "execute_result"
    }
   ],
   "source": [
    "# Copy specific elements from one tuple to a new tuple\n",
    "\n",
    "tuple1 = (11, 22, 33, 44, 55, 66)\n",
    "\n",
    "#tuple2: (44, 55)\n",
    "tuple2 = tuple1[3:5]\n",
    "tuple2"
   ]
  },
  {
   "cell_type": "code",
   "execution_count": 65,
   "id": "cea41c28-fa29-40b1-a1d8-ac2b9444b1c3",
   "metadata": {},
   "outputs": [
    {
     "name": "stdout",
     "output_type": "stream",
     "text": [
      "(11, [222, 33], 44, 55)\n"
     ]
    }
   ],
   "source": [
    "# Modify the tuple\n",
    "\n",
    "tuple1 = (11, [22, 33], 44, 55)\n",
    "tuple1[1][0] = 222\n",
    "print(tuple1)"
   ]
  },
  {
   "cell_type": "code",
   "execution_count": 68,
   "id": "523faf12-f09f-40fa-9ea5-72b2589e0156",
   "metadata": {},
   "outputs": [
    {
     "data": {
      "text/plain": [
       "(('c', 11), ('a', 23), ('d', 29), ('b', 37))"
      ]
     },
     "execution_count": 68,
     "metadata": {},
     "output_type": "execute_result"
    }
   ],
   "source": [
    "#Sort a tuple of tuples by 2nd item\n",
    "tuple1 = (('a', 23),('b', 37),('c', 11), ('d',29))\n",
    "\n",
    "#(('c', 11), ('a', 23), ('d', 29), ('b', 37))\n",
    "\n",
    "tuple1 = tuple(sorted(list(tuple1), key = lambda x : x[1]))\n",
    "tuple1"
   ]
  },
  {
   "cell_type": "code",
   "execution_count": 72,
   "id": "b2129760-847d-4851-910a-de1929fafdf9",
   "metadata": {},
   "outputs": [
    {
     "name": "stdout",
     "output_type": "stream",
     "text": [
      "True\n"
     ]
    }
   ],
   "source": [
    "# Check if all items in the tuple are the same\n",
    "\n",
    "tuple1 = (45, 45, 45, 45)\n",
    "\n",
    "def check(t):\n",
    "    return all(i == t[1] for i in t)\n",
    "\n",
    "print(check(tuple1))"
   ]
  },
  {
   "cell_type": "code",
   "execution_count": 74,
   "id": "0365d914-683d-4965-b744-a31545079923",
   "metadata": {},
   "outputs": [
    {
     "name": "stdout",
     "output_type": "stream",
     "text": [
      "True\n",
      "True\n",
      "True\n",
      "True\n"
     ]
    }
   ],
   "source": [
    "tuple1 = (45, 45, 45, 45)\n",
    "\n",
    "for i in tuple1:\n",
    "    if i == tuple1[0]:\n",
    "        print(True)\n",
    "    else:\n",
    "        print(False)\n",
    "\n"
   ]
  },
  {
   "cell_type": "code",
   "execution_count": 76,
   "id": "74a4a5e3-7380-4403-99fa-1be56589d798",
   "metadata": {},
   "outputs": [
    {
     "name": "stdout",
     "output_type": "stream",
     "text": [
      "(1, 2, 3, 4, 5)\n"
     ]
    }
   ],
   "source": [
    "# Merge two tuples and remove duplicates\n",
    "def merge_and_remove_duplicates(tup1, tup2):\n",
    "    return tuple(set(tup1).union(tup2))\n",
    "\n",
    "tup1 = (1, 2, 3)\n",
    "tup2 = (3, 4, 5)\n",
    "result = merge_and_remove_duplicates(tup1, tup2)\n",
    "print(result)  # Output: (1, 2, 3, 4, 5)\n"
   ]
  },
  {
   "cell_type": "code",
   "execution_count": 85,
   "id": "4f995beb-410b-4129-824e-f5e8478b480e",
   "metadata": {},
   "outputs": [
    {
     "name": "stdout",
     "output_type": "stream",
     "text": [
      "4\n",
      "4\n"
     ]
    }
   ],
   "source": [
    "# Count the number of even and odd numbers in a tuple.\n",
    "def count_even_odd(tup):\n",
    "    even_count = sum(1 for x in tup if x%2 == 0)\n",
    "    odd_count = len(tup)-even_count\n",
    "    return even_count, odd_count\n",
    "\n",
    "tup = (2,3,4,5,6,7,8,1)\n",
    "even, odd = count_even_odd(tup)\n",
    "print(even)\n",
    "print(odd)\n",
    "    \n"
   ]
  },
  {
   "cell_type": "code",
   "execution_count": 89,
   "id": "967a5c7d-826e-4da9-92e1-38e276127630",
   "metadata": {},
   "outputs": [
    {
     "data": {
      "text/plain": [
       "120"
      ]
     },
     "execution_count": 89,
     "metadata": {},
     "output_type": "execute_result"
    }
   ],
   "source": [
    "# Find the product of all elements in a tuple.\n",
    "\n",
    "def product(tup):\n",
    "    product = 1\n",
    "    for i in tup:\n",
    "        product = product * i\n",
    "    return product\n",
    "\n",
    "tup = (1,2,3,4,5)\n",
    "product(tup)"
   ]
  },
  {
   "cell_type": "code",
   "execution_count": 90,
   "id": "9736f506-a7c7-43b1-8981-abd315671008",
   "metadata": {},
   "outputs": [
    {
     "name": "stdout",
     "output_type": "stream",
     "text": [
      "((1, 2, 3), (4, 5, 6), (7,))\n"
     ]
    }
   ],
   "source": [
    "#Split a tuple into equal parts\n",
    "\n",
    "def split_tuple(tup, n):\n",
    "    avg = len(tup) // n\n",
    "    split_result = [tup[i:i+avg] for i in range(0, len(tup), avg)]\n",
    "    return tuple(split_result)\n",
    "\n",
    "tup = (1, 2, 3, 4, 5, 6,7)\n",
    "n = 2\n",
    "result = split_tuple(tup, n)\n",
    "print(result)  # Output: ((1, 2, 3), (4, 5, 6))"
   ]
  },
  {
   "cell_type": "code",
   "execution_count": 96,
   "id": "89f19303-3f8e-4b29-a1e9-63f5f4f49d99",
   "metadata": {},
   "outputs": [
    {
     "data": {
      "text/plain": [
       "('swetha', 27)"
      ]
     },
     "execution_count": 96,
     "metadata": {},
     "output_type": "execute_result"
    }
   ],
   "source": [
    "# Create a function in Python.Write a program to create a function that takes two arguments, name and age, and print their value.\n",
    "\n",
    "def name_age(name,age):\n",
    "    return name,age\n",
    "\n",
    "name_age('swetha',27)"
   ]
  },
  {
   "cell_type": "code",
   "execution_count": 99,
   "id": "fa57c01a-1e8a-422f-a760-9b8f81aac62d",
   "metadata": {},
   "outputs": [
    {
     "name": "stdout",
     "output_type": "stream",
     "text": [
      "10\n",
      "22\n",
      "33\n",
      "44\n"
     ]
    }
   ],
   "source": [
    "# Create a function with variable length of arguments\n",
    "\n",
    "def func1(*args):\n",
    "    for i in args:\n",
    "        print(i)\n",
    "\n",
    "func1(10,22,33,44)"
   ]
  },
  {
   "cell_type": "code",
   "execution_count": 101,
   "id": "f1cb3fb7-951f-483a-ba51-3d293b604604",
   "metadata": {},
   "outputs": [
    {
     "name": "stdout",
     "output_type": "stream",
     "text": [
      "(50, -10)\n"
     ]
    }
   ],
   "source": [
    "# Return multiple values from a function\n",
    "\n",
    "def calculation(a,b):\n",
    "    addition = a+b\n",
    "    subtract = a-b\n",
    "    return addition,subtract\n",
    "\n",
    "res = calculation(20,30)\n",
    "print(res)"
   ]
  },
  {
   "cell_type": "code",
   "execution_count": 104,
   "id": "fa540716-001c-484d-bb13-c112e60b0168",
   "metadata": {},
   "outputs": [
    {
     "name": "stdout",
     "output_type": "stream",
     "text": [
      "('Swetha', 175550)\n"
     ]
    }
   ],
   "source": [
    "#  Create a function with a default argument\n",
    "\n",
    "def name_sal(name, salary=2000):\n",
    "    return name, salary\n",
    "\n",
    "res = name_sal('Swetha', 175550)\n",
    "print(res)"
   ]
  },
  {
   "cell_type": "code",
   "execution_count": 107,
   "id": "6df3d07f-dac7-4364-b2c0-a12bb5a4c09e",
   "metadata": {},
   "outputs": [
    {
     "name": "stdout",
     "output_type": "stream",
     "text": [
      "16\n"
     ]
    }
   ],
   "source": [
    "#  Create an inner function to calculate the addition in the following way\n",
    "\n",
    "#Create an outer function that will accept two parameters, a and b\n",
    "#Create an inner function inside an outer function that will calculate the addition of a and b\n",
    "#At last, an outer function will add 5 into addition and return it\n",
    "\n",
    "def add(a,b):\n",
    "    sum = a+b\n",
    "    return sum + 5\n",
    "\n",
    "res = add(5,6)\n",
    "print(res)\n",
    "    "
   ]
  },
  {
   "cell_type": "code",
   "execution_count": 108,
   "id": "ede03762-48b1-48a1-a468-6a545c53b78e",
   "metadata": {},
   "outputs": [
    {
     "name": "stdout",
     "output_type": "stream",
     "text": [
      "55\n"
     ]
    }
   ],
   "source": [
    "# Create a recursive function\n",
    "#Write a program to create a recursive function to calculate the sum of numbers from 0 to 10.\n",
    "\n",
    "def addition(num):\n",
    "    if num:\n",
    "        return num + addition(num-1)\n",
    "    else:\n",
    "        return 0\n",
    "\n",
    "res = addition(10)\n",
    "print(res)"
   ]
  },
  {
   "cell_type": "code",
   "execution_count": 109,
   "id": "de59eca9-e3fc-48b3-9081-473d40eaad51",
   "metadata": {},
   "outputs": [
    {
     "name": "stdout",
     "output_type": "stream",
     "text": [
      "Emma 26\n",
      "Emma 26\n"
     ]
    }
   ],
   "source": [
    "# Assign a different name to function and call it through the new name\n",
    "\n",
    "def display_student(name, age):\n",
    "    print(name, age)\n",
    "\n",
    "display_student(\"Emma\", 26)\n",
    "\n",
    "showStudent = display_student\n",
    "\n",
    "showStudent(\"Emma\", 26)"
   ]
  },
  {
   "cell_type": "code",
   "execution_count": 112,
   "id": "8ec1cc0f-ea59-4aaf-9c93-f707bc518f86",
   "metadata": {},
   "outputs": [
    {
     "name": "stdin",
     "output_type": "stream",
     "text": [
      "Enter num1 4\n",
      "Enter num2 30\n"
     ]
    },
    {
     "name": "stdout",
     "output_type": "stream",
     "text": [
      "[4, 6, 8, 10, 12, 14, 16, 18, 20, 22, 24, 26, 28, 30]\n"
     ]
    }
   ],
   "source": [
    "# Generate a Python list of all the even numbers between 4 to 30\n",
    "\n",
    "list = []\n",
    "\n",
    "num1 = int(input(\"Enter num1\"))\n",
    "num2 = int(input(\"Enter num2\"))     \n",
    "\n",
    "for i in range(num1, num2+1):\n",
    "    if i %2 ==0:\n",
    "        list.append(i)\n",
    "    else:\n",
    "        pass\n",
    "        \n",
    "\n",
    "print(list)\n",
    "\n"
   ]
  },
  {
   "cell_type": "code",
   "execution_count": 120,
   "id": "618318e9-cf33-4110-bf20-05dc20ad1969",
   "metadata": {},
   "outputs": [
    {
     "name": "stdout",
     "output_type": "stream",
     "text": [
      "24\n"
     ]
    }
   ],
   "source": [
    "# Find the largest item from a given list\n",
    "\n",
    "x = [4, 6, 8, 24, 12, 2]\n",
    "print(max(x))\n"
   ]
  },
  {
   "cell_type": "code",
   "execution_count": 126,
   "id": "7613118d-6e3c-48d5-a65d-7182139b3b25",
   "metadata": {},
   "outputs": [
    {
     "name": "stdout",
     "output_type": "stream",
     "text": [
      "[2, 4, 6, 8, 12, 24]\n",
      "24\n"
     ]
    }
   ],
   "source": [
    "x = [4, 6, 8, 24, 12, 2]\n",
    "x.sort()\n",
    "print(x)\n",
    "print(x[-1])"
   ]
  },
  {
   "cell_type": "code",
   "execution_count": 127,
   "id": "cd0cc6f4-662d-4dec-b185-6f83ee033543",
   "metadata": {},
   "outputs": [
    {
     "name": "stdout",
     "output_type": "stream",
     "text": [
      "{'Yellow', 'Red', 'Orange', 'Green', 'Blue', 'Black'}\n"
     ]
    }
   ],
   "source": [
    "# Add a list of elements to a set\n",
    "\n",
    "sample_set = {\"Yellow\", \"Orange\", \"Black\"}\n",
    "sample_list = [\"Blue\", \"Green\", \"Red\"]\n",
    "\n",
    "sample_set.update(sample_list)\n",
    "print(sample_set)"
   ]
  },
  {
   "cell_type": "code",
   "execution_count": 129,
   "id": "bc3aac02-9aef-4218-b465-4d1614f07612",
   "metadata": {},
   "outputs": [
    {
     "data": {
      "text/plain": [
       "{30, 40, 50}"
      ]
     },
     "execution_count": 129,
     "metadata": {},
     "output_type": "execute_result"
    }
   ],
   "source": [
    "# Return a new set of identical items from two sets\n",
    "set1 = {10, 20, 30, 40, 50}\n",
    "set2 = {30, 40, 50, 60, 70}\n",
    "\n",
    "set1.intersection(set2)"
   ]
  },
  {
   "cell_type": "code",
   "execution_count": 130,
   "id": "5cfdb9c5-1951-4b72-bd3a-82c200b2cedd",
   "metadata": {},
   "outputs": [
    {
     "data": {
      "text/plain": [
       "{10, 20, 30, 40, 50, 60, 70}"
      ]
     },
     "execution_count": 130,
     "metadata": {},
     "output_type": "execute_result"
    }
   ],
   "source": [
    "# Get Only unique items from two sets\n",
    "set1 = {10, 20, 30, 40, 50}\n",
    "set2 = {30, 40, 50, 60, 70}\n",
    "\n",
    "set1.union(set2)"
   ]
  },
  {
   "cell_type": "code",
   "execution_count": 133,
   "id": "556519e4-e711-42eb-89b2-a1b581d7c793",
   "metadata": {},
   "outputs": [
    {
     "name": "stdout",
     "output_type": "stream",
     "text": [
      "{10, 30}\n"
     ]
    }
   ],
   "source": [
    "# Update the first set with items that don’t exist in the second set\n",
    "\n",
    "set1 = {10, 20, 30}\n",
    "set2 = {20, 40, 50}\n",
    "set1.difference_update(set2)\n",
    "print(set1)"
   ]
  },
  {
   "cell_type": "code",
   "execution_count": 137,
   "id": "f1358308-7b9f-49ff-8342-52fb6a33c4fa",
   "metadata": {},
   "outputs": [
    {
     "name": "stdout",
     "output_type": "stream",
     "text": [
      "{50, 40}\n"
     ]
    }
   ],
   "source": [
    "# Remove items from the set at once\n",
    "\n",
    "set1 = {10, 20, 30, 40, 50}\n",
    "set1.difference_update({10,20,30})\n",
    "print(set1)"
   ]
  },
  {
   "cell_type": "code",
   "execution_count": 139,
   "id": "6b8dcce0-c06f-42e2-8945-0321d131250c",
   "metadata": {},
   "outputs": [
    {
     "data": {
      "text/plain": [
       "{10, 20, 60, 70}"
      ]
     },
     "execution_count": 139,
     "metadata": {},
     "output_type": "execute_result"
    }
   ],
   "source": [
    "# Return a set of elements present in Set A or B, but not both\n",
    "set1 = {10, 20, 30, 40, 50}\n",
    "set2 = {30, 40, 50, 60, 70}\n",
    "\n",
    "set1.symmetric_difference(set2)\n"
   ]
  },
  {
   "cell_type": "code",
   "execution_count": 140,
   "id": "7dc3755a-1987-41d8-a0a2-8db81a7dfb31",
   "metadata": {},
   "outputs": [
    {
     "name": "stdout",
     "output_type": "stream",
     "text": [
      "Two sets has common elements\n",
      "{10}\n"
     ]
    }
   ],
   "source": [
    "# Check if two sets have any elements in common. If yes, display the common elements\n",
    "set1 = {10, 20, 30, 40, 50}\n",
    "set2 = {60, 70, 80, 90, 10}\n",
    "\n",
    "if set1.isdisjoint(set2):\n",
    "    print(\"Two sets has no common element\")\n",
    "else:\n",
    "    print(\"Two sets has common elements\")\n",
    "    print(set1.intersection(set2))"
   ]
  },
  {
   "cell_type": "code",
   "execution_count": 141,
   "id": "c95e68d1-38a8-4ab8-9c50-427d54afe273",
   "metadata": {},
   "outputs": [
    {
     "name": "stdout",
     "output_type": "stream",
     "text": [
      "{20, 70, 10, 60}\n"
     ]
    }
   ],
   "source": [
    "# Update set1 by adding items from set2, except common items\n",
    "\n",
    "set1 = {10, 20, 30, 40, 50}\n",
    "set2 = {30, 40, 50, 60, 70}\n",
    "\n",
    "print(set1.symmetric_difference(set2))\n"
   ]
  },
  {
   "cell_type": "code",
   "execution_count": 145,
   "id": "3692898f-4e5b-4603-b922-486e41ac97de",
   "metadata": {},
   "outputs": [
    {
     "name": "stdout",
     "output_type": "stream",
     "text": [
      "{40, 50, 30}\n"
     ]
    }
   ],
   "source": [
    "# Remove items from set1 that are not common to both set1 and set2\n",
    "set1 = {10, 20, 30, 40, 50}\n",
    "set2 = {30, 40, 50, 60, 70}\n",
    "\n",
    "set1.intersection_update(set2)\n",
    "print(set1)"
   ]
  },
  {
   "cell_type": "code",
   "execution_count": 148,
   "id": "cc805d31-a21c-49ab-9bb0-c7f10c29e801",
   "metadata": {},
   "outputs": [
    {
     "data": {
      "text/plain": [
       "{'Ten': 10, 'Twenty': 20, 'Thirty': 30}"
      ]
     },
     "execution_count": 148,
     "metadata": {},
     "output_type": "execute_result"
    }
   ],
   "source": [
    "# Convert two lists into a dictionary\n",
    "keys = ['Ten', 'Twenty', 'Thirty']\n",
    "values = [10, 20, 30]\n",
    "\n",
    "dict(zip(keys, values))"
   ]
  },
  {
   "cell_type": "code",
   "execution_count": 150,
   "id": "63f225c2-3f0d-41ce-a1f7-56d096eae5ca",
   "metadata": {},
   "outputs": [
    {
     "name": "stdout",
     "output_type": "stream",
     "text": [
      "{'Ten': 10, 'Twenty': 20, 'Thirty': 30, 'Fourty': 40, 'Fifty': 50}\n"
     ]
    }
   ],
   "source": [
    "# Merge two Python dictionaries into one\n",
    "\n",
    "dict1 = {'Ten': 10, 'Twenty': 20, 'Thirty': 30}\n",
    "dict2 = {'Thirty': 30, 'Fourty': 40, 'Fifty': 50}\n",
    "\n",
    "dict1.update(dict2)\n",
    "print(dict1)"
   ]
  },
  {
   "cell_type": "code",
   "execution_count": 154,
   "id": "08176481-5025-4f8e-9c0c-93ae180a0500",
   "metadata": {},
   "outputs": [
    {
     "name": "stdout",
     "output_type": "stream",
     "text": [
      "80\n"
     ]
    }
   ],
   "source": [
    "# Print the value of key ‘history’ from the below dict\n",
    "\n",
    "sampleDict = {\"class\": {\"student\": { \"name\": \"Mike\",  \"marks\": { \"physics\": 70, \"history\": 80 }} }}\n",
    "\n",
    "\n",
    "print(sampleDict['class']['student']['marks']['history'])\n"
   ]
  },
  {
   "cell_type": "code",
   "execution_count": 155,
   "id": "a8bba9c3-cf08-4e85-ab6b-a67aa7bbb0e5",
   "metadata": {},
   "outputs": [
    {
     "name": "stdout",
     "output_type": "stream",
     "text": [
      "{'Kelly': {'designation': 'Developer', 'salary': 8000}, 'Emma': {'designation': 'Developer', 'salary': 8000}}\n",
      "{'designation': 'Developer', 'salary': 8000}\n"
     ]
    }
   ],
   "source": [
    "#  Initialize dictionary with default values\n",
    "employees = ['Kelly', 'Emma']\n",
    "defaults = {\"designation\": 'Developer', \"salary\": 8000}\n",
    "\n",
    "# expected output\n",
    "# {'Kelly': {'designation': 'Developer', 'salary': 8000}, 'Emma': {'designation': 'Developer', 'salary': 8000}}\n",
    "\n",
    "res = dict.fromkeys(employees, defaults)\n",
    "print(res)\n",
    "\n",
    "# Individual data\n",
    "print(res[\"Kelly\"])"
   ]
  },
  {
   "cell_type": "code",
   "execution_count": 161,
   "id": "3f0511c3-0228-415b-a460-b4a75c641a60",
   "metadata": {},
   "outputs": [
    {
     "name": "stdout",
     "output_type": "stream",
     "text": [
      "{'name': 'Kelly', 'salary': 8000}\n"
     ]
    }
   ],
   "source": [
    "# Create a dictionary by extracting the keys from a given dictionary\n",
    "\n",
    "# Write a Python program to create a new dictionary by extracting the mentioned keys from the below dictionary.\n",
    "sample_dict = {\n",
    "    \"name\": \"Kelly\",\n",
    "    \"age\": 25,\n",
    "    \"salary\": 8000,\n",
    "    \"city\": \"New york\"}\n",
    "\n",
    "# Keys to extract\n",
    "keys = [\"name\", \"salary\"]\n",
    "\n",
    "new_dict = {k : sample_dict[k] for k in keys}\n",
    "print(new_dict)"
   ]
  },
  {
   "cell_type": "code",
   "execution_count": 163,
   "id": "69360cd9-0bb4-4019-a64b-ea2f292e64f4",
   "metadata": {},
   "outputs": [
    {
     "name": "stdout",
     "output_type": "stream",
     "text": [
      "{'age': 25, 'city': 'New york'}\n"
     ]
    }
   ],
   "source": [
    "# Delete a list of keys from a dictionary\n",
    "sample_dict = {\n",
    "    \"name\": \"Kelly\",\n",
    "    \"age\": 25,\n",
    "    \"salary\": 8000,\n",
    "    \"city\": \"New york\"\n",
    "}\n",
    "\n",
    "# Keys to remove\n",
    "keys = [\"name\", \"salary\"]\n",
    "\n",
    "for k in keys:\n",
    "    sample_dict.pop(k)\n",
    "\n",
    "print(sample_dict)\n"
   ]
  },
  {
   "cell_type": "code",
   "execution_count": 164,
   "id": "8acb2be5-b99b-4313-88e8-32be137f9a6f",
   "metadata": {},
   "outputs": [
    {
     "name": "stdout",
     "output_type": "stream",
     "text": [
      "200 is present\n"
     ]
    }
   ],
   "source": [
    "# Check if a value exists in a dictionary\n",
    "sample_dict = {'a': 100, 'b': 200, 'c': 300}\n",
    "\n",
    "if 200 in sample_dict.values():\n",
    "    print(\"200 is present\")"
   ]
  },
  {
   "cell_type": "code",
   "execution_count": 174,
   "id": "173f52ba-9da6-48e4-a061-e3b09c6f9d40",
   "metadata": {},
   "outputs": [
    {
     "name": "stdout",
     "output_type": "stream",
     "text": [
      "{'name': 'Kelly', 'age': 25, 'salary': 8000, 'location': 'New york'}\n"
     ]
    }
   ],
   "source": [
    "# Rename key of a dictionary\n",
    "# Write a program to rename a key city to a location in the following dictionary\n",
    "\n",
    "sample_dict = {\n",
    "  \"name\": \"Kelly\",\n",
    "  \"age\":25,\n",
    "  \"salary\": 8000,\n",
    "  \"city\": \"New york\"\n",
    "}\n",
    "\n",
    "sample_dict['location'] = sample_dict.pop('city')\n",
    "\n",
    "print(sample_dict)"
   ]
  },
  {
   "cell_type": "code",
   "execution_count": 179,
   "id": "c543171a-9e3d-4d2c-b643-04d1fe74ad7e",
   "metadata": {},
   "outputs": [
    {
     "name": "stdout",
     "output_type": "stream",
     "text": [
      "Math\n"
     ]
    }
   ],
   "source": [
    "# Get the key of a minimum value from the following dictionary\n",
    "\n",
    "sample_dict = {\n",
    "  'Physics': 82,\n",
    "  'Math': 65,\n",
    "  'history': 75\n",
    "}\n",
    "\n",
    "print(min(sample_dict)) "
   ]
  },
  {
   "cell_type": "code",
   "execution_count": 181,
   "id": "f5972327-65d7-426d-b12d-35d2fd608ad2",
   "metadata": {},
   "outputs": [
    {
     "name": "stdout",
     "output_type": "stream",
     "text": [
      "{'emp1': {'name': 'Jhon', 'salary': 7500}, 'emp2': {'name': 'Emma', 'salary': 8000}, 'emp3': {'name': 'Brad', 'salary': 8500}}\n"
     ]
    }
   ],
   "source": [
    "# Change value of a key in a nested dictionary\n",
    "\n",
    "sample_dict = {\n",
    "    'emp1': {'name': 'Jhon', 'salary': 7500},\n",
    "    'emp2': {'name': 'Emma', 'salary': 8000},\n",
    "    'emp3': {'name': 'Brad', 'salary': 500}\n",
    "}\n",
    "\n",
    "sample_dict['emp3']['salary'] = 8500\n",
    "\n",
    "print(sample_dict)"
   ]
  },
  {
   "cell_type": "code",
   "execution_count": 183,
   "id": "996b99f9-87ba-4da5-b7e1-98538aea31f7",
   "metadata": {},
   "outputs": [
    {
     "name": "stdout",
     "output_type": "stream",
     "text": [
      "2024-04-12 12:25:48.559249\n"
     ]
    }
   ],
   "source": [
    "# Print current date and time in Python\n",
    "\n",
    "import datetime\n",
    "print(datetime.datetime.now())\n"
   ]
  },
  {
   "cell_type": "code",
   "execution_count": 190,
   "id": "9f23b5e8-11d4-472b-a1e5-db6cc177b4b7",
   "metadata": {},
   "outputs": [
    {
     "data": {
      "text/plain": [
       "11"
      ]
     },
     "execution_count": 190,
     "metadata": {},
     "output_type": "execute_result"
    }
   ],
   "source": [
    "# Missing Integer \n",
    "\n",
    "def find_missing_element(arr):\n",
    "    N = max(arr);\n",
    "    expected_sum = (N * (N + 1)) // 2\n",
    "    actual_sum = sum(arr)\n",
    "    return expected_sum - actual_sum\n",
    "\n",
    "arr = [1,2,3,5,6,8]\n",
    "find_missing_element(arr)"
   ]
  },
  {
   "cell_type": "markdown",
   "id": "3f3cc7fc-e143-421e-b41c-6756a89a284e",
   "metadata": {},
   "source": [
    "## Interview Questions"
   ]
  },
  {
   "cell_type": "code",
   "execution_count": 202,
   "id": "bee873c0-a27d-4406-88d0-3e25372564bb",
   "metadata": {},
   "outputs": [
    {
     "data": {
      "text/plain": [
       "'dlroW olleH'"
      ]
     },
     "execution_count": 202,
     "metadata": {},
     "output_type": "execute_result"
    }
   ],
   "source": [
    "# 1. How do you reverse a string in Python?\n",
    "s = \"Hello World\"\n",
    "\n",
    "def rev_string(s):\n",
    "    return s[::-1]\n",
    "\n",
    "rev_string(s)\n",
    "    "
   ]
  },
  {
   "cell_type": "code",
   "execution_count": 203,
   "id": "e8829afe-af59-4b74-acf6-f48a28402310",
   "metadata": {},
   "outputs": [],
   "source": [
    "#Write a function that checks if a given word is a palindrome\n",
    "def is_palindrome(word):\n",
    "    return word == word[::-1]"
   ]
  },
  {
   "cell_type": "code",
   "execution_count": 207,
   "id": "07b3c098-467d-42ad-9c7a-0a109152c825",
   "metadata": {},
   "outputs": [
    {
     "ename": "TypeError",
     "evalue": "'list' object is not callable",
     "output_type": "error",
     "traceback": [
      "\u001b[0;31m---------------------------------------------------------------------------\u001b[0m",
      "\u001b[0;31mTypeError\u001b[0m                                 Traceback (most recent call last)",
      "Cell \u001b[0;32mIn[207], line 7\u001b[0m\n\u001b[1;32m      4\u001b[0m \u001b[38;5;28;01mdef\u001b[39;00m \u001b[38;5;21mremove_duplicates\u001b[39m(l):\n\u001b[1;32m      5\u001b[0m     \u001b[38;5;28;01mreturn\u001b[39;00m \u001b[38;5;28mlist\u001b[39m(\u001b[38;5;28mset\u001b[39m(l))\n\u001b[0;32m----> 7\u001b[0m remove_duplicates(l)\n",
      "Cell \u001b[0;32mIn[207], line 5\u001b[0m, in \u001b[0;36mremove_duplicates\u001b[0;34m(l)\u001b[0m\n\u001b[1;32m      4\u001b[0m \u001b[38;5;28;01mdef\u001b[39;00m \u001b[38;5;21mremove_duplicates\u001b[39m(l):\n\u001b[0;32m----> 5\u001b[0m     \u001b[38;5;28;01mreturn\u001b[39;00m \u001b[38;5;28mlist\u001b[39m(\u001b[38;5;28mset\u001b[39m(l))\n",
      "\u001b[0;31mTypeError\u001b[0m: 'list' object is not callable"
     ]
    }
   ],
   "source": [
    "# 4. How can you remove duplicates from a list?\n",
    "l = [1,2,2,4,4,5,6]\n",
    "\n",
    "def remove_duplicates(l):\n",
    "    return list(set(l))\n",
    "\n",
    "remove_duplicates(l)\n",
    "    "
   ]
  },
  {
   "cell_type": "code",
   "execution_count": 208,
   "id": "a36c0aa0-0fcc-4f1e-9b40-22d614bbeb6a",
   "metadata": {},
   "outputs": [
    {
     "name": "stdout",
     "output_type": "stream",
     "text": [
      "5\n"
     ]
    }
   ],
   "source": [
    "# What is a lambda function? Provide an example.\n",
    "\n",
    "add = lambda x,y:x+y\n",
    "print(add(2,3))"
   ]
  },
  {
   "cell_type": "code",
   "execution_count": 210,
   "id": "bd1ac298-c65c-4520-b1ca-31ae188fdd78",
   "metadata": {},
   "outputs": [
    {
     "name": "stdout",
     "output_type": "stream",
     "text": [
      "dict_keys(['name', 'age'])\n",
      "dict_values(['John', 24])\n",
      "dict_items([('name', 'John'), ('age', 24)])\n"
     ]
    }
   ],
   "source": [
    "# 3.How do you retrieve all the keys, values, and items from a dictionary?\n",
    "d = {'name':'John','age':24,}\n",
    "\n",
    "print(d.keys())\n",
    "print(d.values())\n",
    "print(d.items())"
   ]
  },
  {
   "cell_type": "code",
   "execution_count": 211,
   "id": "c7831316-12a5-4e4a-b01d-25ae78cf380c",
   "metadata": {},
   "outputs": [
    {
     "data": {
      "text/plain": [
       "'John'"
      ]
     },
     "execution_count": 211,
     "metadata": {},
     "output_type": "execute_result"
    }
   ],
   "source": [
    "# how can you extract only john from dict?\n",
    "d['name']"
   ]
  },
  {
   "cell_type": "code",
   "execution_count": 212,
   "id": "60c5e108-37cf-4dc2-8e62-a18b2d95fee4",
   "metadata": {},
   "outputs": [
    {
     "name": "stdout",
     "output_type": "stream",
     "text": [
      "<class 'dict'>\n",
      "<class 'set'>\n"
     ]
    }
   ],
   "source": [
    "# How do you create an empty set in Python, and what is the key difference between an empty set and an empty dictionary?\n",
    "\n",
    "s = {}\n",
    "print(type(s))\n",
    "\n",
    "a = set()\n",
    "print(type(a))"
   ]
  },
  {
   "cell_type": "code",
   "execution_count": 216,
   "id": "d2bedd7a-47b9-468d-aa6d-dfbad381fd1a",
   "metadata": {},
   "outputs": [
    {
     "name": "stdout",
     "output_type": "stream",
     "text": [
      "{2, 2.345, 'swetha'}\n"
     ]
    }
   ],
   "source": [
    "# 3.If you have an empty set, how would you add elements using a built-in function in Python?\n",
    "\n",
    "my_set = set()\n",
    "\n",
    "my_set.add(2)\n",
    "my_set.add(\"swetha\")\n",
    "my_set.add(2.345)\n",
    "\n",
    "print(my_set)"
   ]
  },
  {
   "cell_type": "code",
   "execution_count": 217,
   "id": "9ebfe8d5-3fcd-4af8-bef4-68bf3acf0e55",
   "metadata": {},
   "outputs": [
    {
     "name": "stdout",
     "output_type": "stream",
     "text": [
      "{3, 4, 5}\n"
     ]
    }
   ],
   "source": [
    "# 5.How can you find the intersection of two sets in Python?\n",
    "set1 = {1, 2, 3, 4, 5}\n",
    "set2 = {3, 4, 5, 6, 7}\n",
    "\n",
    "print(set1.intersection(set2))"
   ]
  },
  {
   "cell_type": "code",
   "execution_count": 219,
   "id": "e1618310-a72c-42b4-9fa9-8927647ddd2c",
   "metadata": {},
   "outputs": [
    {
     "name": "stdout",
     "output_type": "stream",
     "text": [
      "{0: 0, 1: 1, 2: 4, 3: 9}\n"
     ]
    }
   ],
   "source": [
    "# 2.Write a code to create a dictionary using dictionary comprehension?\n",
    "\n",
    "my_dict = {x: x **2 for x in range(0,4)}\n",
    "print(my_dict)"
   ]
  },
  {
   "cell_type": "code",
   "execution_count": 220,
   "id": "ab1d6144-f4cd-48c0-87d3-293d1cc2371c",
   "metadata": {},
   "outputs": [
    {
     "name": "stdout",
     "output_type": "stream",
     "text": [
      "{'name': 'mradul', 'age': 23, 'city': 'indore'}\n",
      "-----------------\n",
      "{'name': 'mradul', 'age': 23}\n"
     ]
    }
   ],
   "source": [
    "# 3.What does .pop() method do in dictionary?\n",
    "\n",
    "#Pop inside dictionary can be used to remove the last item as well as any specific item. \n",
    "# While in list the pop was just used to remove the last element.\n",
    "\n",
    "dict1={\"name\": \"mradul\",\"age\": 23,\"city\": \"indore\"}\n",
    "print(dict1)\n",
    "\n",
    "print('-----------------')\n",
    "\n",
    "dict1.pop(\"city\")\n",
    "print(dict1)"
   ]
  },
  {
   "cell_type": "code",
   "execution_count": 223,
   "id": "d25d5884-9744-4464-95c8-497788e4b930",
   "metadata": {},
   "outputs": [
    {
     "name": "stdout",
     "output_type": "stream",
     "text": [
      "gallahad the pure\n",
      "robin the brave\n"
     ]
    }
   ],
   "source": [
    "# 4.How do you iterate through both keys and values simultaneously in a dictionary??\n",
    "\n",
    "knights = {'gallahad': 'the pure', 'robin': 'the brave'}\n",
    "\n",
    "for k,v in knights.items():\n",
    "    print(k,v)"
   ]
  },
  {
   "cell_type": "code",
   "execution_count": 227,
   "id": "112ce8b8-8285-47ed-8c4b-a0be79f50509",
   "metadata": {},
   "outputs": [
    {
     "name": "stdout",
     "output_type": "stream",
     "text": [
      "{'name': 'Swetha', 'Occupation': 'Lead Data Scientist', 'salary': 2005000}\n"
     ]
    }
   ],
   "source": [
    "# 5.Explain the purpose and usage of the update() method in Python dictionaries. Provide an example to illustrate its functionality.\n",
    "\n",
    "#The update() method in Python dictionaries is used to merge the key-value pairs of one dictionary into another. \n",
    "#It takes either another dictionary or an iterable of key-value pairs as its argument and adds them to the calling dictionary. \n",
    "#If a key from the provided dictionary already exists in the calling dictionary, its value will be updated with the new value.\n",
    "\n",
    "dict_12 = {\"name\" : \"Swetha\", \"Occupation\" : \"Data Scientist\", \"salary\" : 125000}\n",
    "dict_2 = {\"name\" : \"Swetha\", \"Occupation\" : \"Lead Data Scientist\", \"salary\" : 2005000}\n",
    "\n",
    "dict_12.update(dict_2)\n",
    "print(dict_12)"
   ]
  },
  {
   "cell_type": "code",
   "execution_count": 228,
   "id": "547cf677-c668-4da6-a203-167f6503cc51",
   "metadata": {},
   "outputs": [
    {
     "name": "stdout",
     "output_type": "stream",
     "text": [
      "(4, 3, 2, 1)\n"
     ]
    }
   ],
   "source": [
    "# 2.How can you reverse a tuple in Python?\n",
    "\n",
    "#Answer: Tuples are immutable, so you cannot reverse them in place. \n",
    "#However, you can create a new tuple with reversed elements using slicing\n",
    "\n",
    "tup_1 = (1,2,3,4)\n",
    "rev_tup_1 = tup_1[::-1]\n",
    "print(rev_tup_1)\n"
   ]
  },
  {
   "cell_type": "code",
   "execution_count": 234,
   "id": "6c2c476c-25a7-4df4-a55c-6bb87a92c42b",
   "metadata": {},
   "outputs": [
    {
     "ename": "TypeError",
     "evalue": "'NoneType' object is not callable",
     "output_type": "error",
     "traceback": [
      "\u001b[0;31m---------------------------------------------------------------------------\u001b[0m",
      "\u001b[0;31mTypeError\u001b[0m                                 Traceback (most recent call last)",
      "Cell \u001b[0;32mIn[234], line 5\u001b[0m\n\u001b[1;32m      1\u001b[0m \u001b[38;5;66;03m# 3.How can you sort a list of tuples based on the second element of each tuple?\u001b[39;00m\n\u001b[1;32m      4\u001b[0m my_list \u001b[38;5;241m=\u001b[39m [(\u001b[38;5;241m3\u001b[39m, \u001b[38;5;241m7\u001b[39m), (\u001b[38;5;241m1\u001b[39m, \u001b[38;5;241m4\u001b[39m), (\u001b[38;5;241m2\u001b[39m, \u001b[38;5;241m8\u001b[39m)]\n\u001b[0;32m----> 5\u001b[0m sorted_list \u001b[38;5;241m=\u001b[39m \u001b[38;5;28msorted\u001b[39m(my_list, key\u001b[38;5;241m=\u001b[39m \u001b[38;5;28;01mlambda\u001b[39;00m x: x[\u001b[38;5;241m1\u001b[39m])\n\u001b[1;32m      6\u001b[0m sorted_list\n",
      "\u001b[0;31mTypeError\u001b[0m: 'NoneType' object is not callable"
     ]
    }
   ],
   "source": [
    "# 3.How can you sort a list of tuples based on the second element of each tuple?\n",
    "\n",
    "\n",
    "my_list = [(3, 7), (1, 4), (2, 8)]\n",
    "sorted_list = sorted(my_list, key= lambda x: x[1])\n",
    "sorted_list"
   ]
  },
  {
   "cell_type": "code",
   "execution_count": 235,
   "id": "bb625ad6-a609-4671-855c-b7c4cb6ce07e",
   "metadata": {},
   "outputs": [
    {
     "name": "stdout",
     "output_type": "stream",
     "text": [
      "First: 20\n",
      "Last: 50\n"
     ]
    }
   ],
   "source": [
    "# 5.Find the first and last elements of a tuple.\n",
    "\n",
    "def first_last(ele):\n",
    "    return ele[1], ele[-1]\n",
    "\n",
    "ele = (10, 20, 30, 40, 50)\n",
    "first, last = first_last(ele)\n",
    "print(\"First:\", first)  # Output: First: 10\n",
    "print(\"Last:\", last)    # Output: Last: 50"
   ]
  },
  {
   "cell_type": "code",
   "execution_count": 236,
   "id": "0128de89-5031-4db6-ac09-f6fdd2883445",
   "metadata": {},
   "outputs": [
    {
     "name": "stdout",
     "output_type": "stream",
     "text": [
      "[5, 4, 3, 2, 1]\n"
     ]
    }
   ],
   "source": [
    "# 1.How do you reverse a list in Python?\n",
    "l = [1,2,3,4,5]\n",
    "\n",
    "def reverse_list(l):\n",
    "    return l[::-1]\n",
    "\n",
    "print(reverse_list(l))\n"
   ]
  },
  {
   "cell_type": "code",
   "execution_count": 239,
   "id": "c244e1ff-9523-4dec-8dd5-e435d6685519",
   "metadata": {},
   "outputs": [
    {
     "name": "stdout",
     "output_type": "stream",
     "text": [
      "[1, 2, 3, 4]\n",
      "[1, 2, 3, 4, 4, 5, 6]\n"
     ]
    }
   ],
   "source": [
    "# 2. Explain the difference between append() and extend() methods in Python lists.\n",
    "\n",
    "#Answer:\n",
    "\n",
    "#append() adds a single element to the end of the list.\n",
    "#extend() adds elements of an iterable (list, tuple, etc.) to the end of the list.\n",
    "list1 = [1, 2, 3]\n",
    "list2 = [4, 5, 6]\n",
    "\n",
    "list1.append(4)  \n",
    "print(list1)\n",
    "list1.extend(list2) \n",
    "print(list1)"
   ]
  },
  {
   "cell_type": "code",
   "execution_count": 244,
   "id": "54a211e9-409f-423e-8518-c3b7e21844b0",
   "metadata": {},
   "outputs": [
    {
     "name": "stdout",
     "output_type": "stream",
     "text": [
      "[1, 3, 4, 5]\n"
     ]
    }
   ],
   "source": [
    "# 4. Explain the pop() method in Python lists.\n",
    "\n",
    "# Answer: The pop() method removes and returns the item at the specified index (default is the last item).\n",
    "\n",
    "my_list = [1, 2, 3, 4, 5]\n",
    "my_list.pop(1)\n",
    "print(my_list)"
   ]
  },
  {
   "cell_type": "code",
   "execution_count": 247,
   "id": "f816bb93-20f7-4f6f-93e6-9cade5da151b",
   "metadata": {},
   "outputs": [
    {
     "name": "stdout",
     "output_type": "stream",
     "text": [
      "[100, 121, 144, 169, 196]\n"
     ]
    }
   ],
   "source": [
    "# 5. Explain list comprehension in Python.\n",
    "\n",
    "#Answer: List comprehension is a concise way to create lists. \n",
    "#It consists of an expression followed by at least one for clause and zero or more if clauses.\n",
    "\n",
    "squares = [x ** 2 for x in range(10,15)]\n",
    "print(squares)"
   ]
  },
  {
   "cell_type": "code",
   "execution_count": 260,
   "id": "8fb139eb-0f57-4691-8ee6-a4bd50f94d84",
   "metadata": {},
   "outputs": [
    {
     "name": "stdout",
     "output_type": "stream",
     "text": [
      "[3, 4, 5]\n"
     ]
    }
   ],
   "source": [
    "# 1.Given two lists, write a function that returns the elements that are common to both lists.\n",
    "\n",
    "l1 = [1, 2, 3, 4, 5]\n",
    "l2 = [3, 4, 5, 6, 7]\n",
    "\n",
    "# def find_common_element(list1,list2):\n",
    "#     common_element = list(set(list1) & set(list2))\n",
    "#     return common_element\n",
    "\n",
    "# find_common_element(l1,l2)\n",
    "\n",
    "def common_ele(l1,l2):\n",
    "    result = [x for x in l1 if x in l2]\n",
    "    return result\n",
    "print(common_ele(l1,l2))"
   ]
  },
  {
   "cell_type": "code",
   "execution_count": 264,
   "id": "4b1a2fe6-8e74-4c67-8c3b-2a78a183edb1",
   "metadata": {},
   "outputs": [
    {
     "name": "stdout",
     "output_type": "stream",
     "text": [
      "{'a': 1, 'b': 3, 'c': 4}\n"
     ]
    }
   ],
   "source": [
    "# 2. Write a Python function to merge two dictionaries. If both dictionaries have the same key, prefer the second dictionary's value.\n",
    "\n",
    "\n",
    "dict1 = {'a': 1, 'b': 2}\n",
    "dict2 = {'b': 3, 'c': 4}\n",
    "\n",
    "def merged_dict(dict1, dict2):\n",
    "    merged = dict1.copy()\n",
    "    merged.update(dict2)\n",
    "    return merged\n",
    "\n",
    "print(merged_dict(dict1,dict2))"
   ]
  },
  {
   "cell_type": "code",
   "execution_count": 269,
   "id": "99eee2a2-c4a0-419f-9a98-4c58e25f7635",
   "metadata": {},
   "outputs": [
    {
     "name": "stdout",
     "output_type": "stream",
     "text": [
      "{'mean': 3.888888888888889, 'median': 4.0, 'mode': 5}\n"
     ]
    }
   ],
   "source": [
    "# 3.Given a list of numbers, write a function to compute the mean, median, and mode.\n",
    "\n",
    "numbers = [1, 2, 3, 4, 4, 5, 5, 5, 6]\n",
    "from statistics import mean, median, mode\n",
    "import numpy as np\n",
    "\n",
    "def central_measures(numbers):\n",
    "    return { 'mean' : np.mean(numbers), 'median' : np.median(numbers), 'mode' : mode(numbers)}\n",
    "\n",
    "print(central_measures(numbers))"
   ]
  },
  {
   "cell_type": "code",
   "execution_count": 272,
   "id": "69490b9d-7ad9-4d60-8acc-025a8bd48f52",
   "metadata": {},
   "outputs": [
    {
     "data": {
      "text/plain": [
       "True"
      ]
     },
     "execution_count": 272,
     "metadata": {},
     "output_type": "execute_result"
    }
   ],
   "source": [
    "# 4.Write a function to check if a given string is a palindrome.\n",
    "\n",
    "def is_pallindorm(my_str):\n",
    "    if my_str == my_str[::-1]:\n",
    "        return True\n",
    "\n",
    "is_pallindorm('radar')"
   ]
  },
  {
   "cell_type": "code",
   "execution_count": 286,
   "id": "021dc72e-274c-4815-966d-e3891c0cabcb",
   "metadata": {},
   "outputs": [
    {
     "name": "stdin",
     "output_type": "stream",
     "text": [
      "Enter the number 5\n"
     ]
    },
    {
     "name": "stdout",
     "output_type": "stream",
     "text": [
      "The factorial of 5 is 120\n",
      "------\n",
      "5040\n"
     ]
    }
   ],
   "source": [
    "# 5.Write a function to compute the factorial of a number using iteration.\n",
    "\n",
    "num = int(input(\"Enter the number\"))\n",
    "\n",
    "fact = 1\n",
    "\n",
    "if num < 0:\n",
    "    print(\"factorial dosent exist\")\n",
    "\n",
    "elif num == 0:\n",
    "    print(\"factorial is 1\")\n",
    "else:\n",
    "    for i in range(1,num+1):\n",
    "        fact = fact * i\n",
    "    print(\"The factorial of\",num,\"is\", fact)\n",
    "        \n",
    "print(\"------\")\n",
    "\n",
    "def factorial_it(num):\n",
    "    result = 1\n",
    "    for i in range(2, num+1):\n",
    "        result = result * i\n",
    "    return result\n",
    "\n",
    "print(factorial_it(7))\n",
    "\n",
    "\n",
    "    "
   ]
  },
  {
   "cell_type": "code",
   "execution_count": 287,
   "id": "00685841-90d3-42e7-bc6e-f8feb52feff1",
   "metadata": {},
   "outputs": [
    {
     "name": "stdin",
     "output_type": "stream",
     "text": [
      "Enter celsius value u want to convert: 43\n"
     ]
    },
    {
     "name": "stdout",
     "output_type": "stream",
     "text": [
      "109.4\n"
     ]
    }
   ],
   "source": [
    "# Write a program that will convert celsius value to fahrenheit\n",
    "\n",
    "def ce_to_far(number):\n",
    "    F = (C * 9/5) + 32\n",
    "    return F\n",
    "\n",
    "C = float(input(\"Enter celsius value u want to convert:\"))\n",
    "\n",
    "result = ce_to_far(C)\n",
    "print(result)\n"
   ]
  },
  {
   "cell_type": "code",
   "execution_count": 291,
   "id": "466e6f88-cfca-4acc-998c-fb79505c20aa",
   "metadata": {},
   "outputs": [
    {
     "name": "stdin",
     "output_type": "stream",
     "text": [
      "Enter the num1 50\n",
      "Enter the num2 100\n"
     ]
    },
    {
     "name": "stdout",
     "output_type": "stream",
     "text": [
      "100 50\n"
     ]
    }
   ],
   "source": [
    "# Take 2 numbers as input from the user.Write a program to swap the numbers without using any special python syntax.\n",
    "\n",
    "num1 = int(input(\"Enter the num1\"))\n",
    "\n",
    "num2 = int(input(\"Enter the num2\"))\n",
    "\n",
    "num1, num2 = num2, num1\n",
    "print(num1, num2)\n"
   ]
  },
  {
   "cell_type": "code",
   "execution_count": 293,
   "id": "e67b9b3b-816f-4bc0-9df6-8414e5db71fa",
   "metadata": {},
   "outputs": [
    {
     "name": "stdin",
     "output_type": "stream",
     "text": [
      "Enter the num1 3\n",
      "Enter the num2 6\n"
     ]
    },
    {
     "name": "stdout",
     "output_type": "stream",
     "text": [
      "6 3\n"
     ]
    }
   ],
   "source": [
    "num1 = int(input(\"Enter the num1\"))\n",
    "\n",
    "num2 = int(input(\"Enter the num2\"))\n",
    "\n",
    "temp1 = num1\n",
    "num1 = num2\n",
    "num2 = temp1\n",
    "print(num1, num2)"
   ]
  },
  {
   "cell_type": "code",
   "execution_count": 294,
   "id": "dc7e3594-fe6a-4a22-8b3a-470fffc33574",
   "metadata": {},
   "outputs": [
    {
     "name": "stdin",
     "output_type": "stream",
     "text": [
      "enter the number 5\n"
     ]
    },
    {
     "name": "stdout",
     "output_type": "stream",
     "text": [
      "[1, 4, 9, 16, 25]\n"
     ]
    }
   ],
   "source": [
    "# Write a program to find the sum of squares of first n natural numbers where n will be provided by the user\n",
    "\n",
    "n = int(input(\"enter the number\"))\n",
    "\n",
    "square = [x ** 2 for x in range(1, n+1)]\n",
    "print(square)"
   ]
  },
  {
   "cell_type": "code",
   "execution_count": 298,
   "id": "052e0e66-eec9-4828-aa6a-1a06170a79a0",
   "metadata": {},
   "outputs": [
    {
     "name": "stdout",
     "output_type": "stream",
     "text": [
      "* \n",
      "* * \n",
      "* * * \n",
      "* * * * \n",
      "* * * * * \n",
      "----------------------\n",
      "* * * * * \n",
      "* * * * \n",
      "* * * \n",
      "* * \n",
      "* \n"
     ]
    }
   ],
   "source": [
    "# Pattern program\n",
    "\n",
    "rows = 5\n",
    "\n",
    "for i in range(1,rows+1):\n",
    "    for j in range(1, i+1):\n",
    "        print(\"*\", end = \" \")\n",
    "    print()\n",
    "\n",
    "print(\"----------------------\")\n",
    "\n",
    "\n",
    "rows = 5\n",
    "\n",
    "for i in range(rows, 0, -1):\n",
    "    for j in range(1, i+1):\n",
    "        print(\"*\", end = \" \")\n",
    "    print()\n"
   ]
  },
  {
   "cell_type": "code",
   "execution_count": null,
   "id": "3b28f02e-ab60-4942-ab6d-98cb42f567c5",
   "metadata": {},
   "outputs": [],
   "source": []
  },
  {
   "cell_type": "code",
   "execution_count": 304,
   "id": "87abfd1f-356d-4848-a9d3-8e983ef4f8fa",
   "metadata": {},
   "outputs": [
    {
     "name": "stdin",
     "output_type": "stream",
     "text": [
      "Enter the strng oh my god\n"
     ]
    },
    {
     "name": "stdout",
     "output_type": "stream",
     "text": [
      "OMG\n"
     ]
    }
   ],
   "source": [
    "# Create Short Form from initial character\n",
    "# Given a string create short form ofthe string from Initial character. Short form should be capitalised.\n",
    "\n",
    "def short_str(my_str):\n",
    "    words = my_str.split()\n",
    "    short_form = \"\".join(word[0].upper() for word in words)\n",
    "    return short_form\n",
    "\n",
    "my_str = input(\"Enter the strng\")\n",
    "result = short_str(my_str)\n",
    "print(result)\n",
    "\n",
    "\n",
    "\n"
   ]
  },
  {
   "cell_type": "code",
   "execution_count": 319,
   "id": "3cd87af5-1749-4054-b4f4-d41464d989a9",
   "metadata": {},
   "outputs": [
    {
     "name": "stdin",
     "output_type": "stream",
     "text": [
      "Enter string my name is swetha\n"
     ]
    },
    {
     "name": "stdout",
     "output_type": "stream",
     "text": [
      "swetha is name my\n"
     ]
    }
   ],
   "source": [
    "# Reverse words in a given String\n",
    "\n",
    "def reverse_word(string):\n",
    "    words = string.split()\n",
    "    return ' '.join(words[::-1])\n",
    "\n",
    "my_str = input(\"Enter string\")\n",
    "result = reverse_word(my_str)\n",
    "print(result)"
   ]
  },
  {
   "cell_type": "code",
   "execution_count": 321,
   "id": "cb2cc03a-5736-4be0-97f7-0211225bc373",
   "metadata": {},
   "outputs": [
    {
     "name": "stdout",
     "output_type": "stream",
     "text": [
      "-----\n",
      "[2, 4, 6, 8, 10]\n"
     ]
    }
   ],
   "source": [
    "# Write a Python code to create a new list that contains only the even numbers from the given list\n",
    "\n",
    "n= int(input(\"Enter the number\"))\n",
    "even_num = [x for x in range(2, n+1, 2)]\n",
    "print(even_num)\n",
    "\n",
    "print(\"-----\")\n",
    "list = [1,2,3,4,5,6,7,8,9,10]\n",
    "even_nums = [x for x in list if x%2 == 0]\n",
    "print(even_nums)"
   ]
  },
  {
   "cell_type": "code",
   "execution_count": 324,
   "id": "63217ecf-df00-4ad2-a64a-b6e14dfafec4",
   "metadata": {},
   "outputs": [
    {
     "name": "stdout",
     "output_type": "stream",
     "text": [
      "[1, 4, 27, 16, 125, 36, 343, 64, 729, 100]\n"
     ]
    }
   ],
   "source": [
    "# Write a Python code to create a new list that contains squares of even numbers and cubes of odd numbers from the given list.\n",
    "\n",
    "numbers = [1, 2, 3, 4, 5, 6, 7, 8, 9, 10]\n",
    "\n",
    "new_list = [x**2  if x%2==0 else x**3  for x in numbers]\n",
    "print(new_list)\n"
   ]
  },
  {
   "cell_type": "code",
   "execution_count": 325,
   "id": "a77fed69-533d-4bf3-b394-4d4e6d9ac0be",
   "metadata": {},
   "outputs": [
    {
     "name": "stdout",
     "output_type": "stream",
     "text": [
      "[1, 4, 9, 16, 25, 36, 49, 64, 81, 100]\n"
     ]
    }
   ],
   "source": [
    "# Write a Python code to create a new list that contains the squares of numbers from 1 to 10.\n",
    "\n",
    "new_list = [x**2 for x in range(1,11)]\n",
    "print(new_list)"
   ]
  },
  {
   "cell_type": "code",
   "execution_count": 327,
   "id": "ea1286da-9b9e-4d07-9184-8555cab0c435",
   "metadata": {},
   "outputs": [
    {
     "name": "stdout",
     "output_type": "stream",
     "text": [
      "[3, 4, 5]\n"
     ]
    }
   ],
   "source": [
    "# Given two lists, create a new list that contains the common elements using list comprehension.\n",
    "\n",
    "list1 = [1, 2, 3, 4, 5]\n",
    "list2 = [3, 4, 5, 6, 7]\n",
    "\n",
    "commone_ele = [x for x in list1 if x in list2]\n",
    "print(commone_ele)"
   ]
  },
  {
   "cell_type": "code",
   "execution_count": 329,
   "id": "4ab2040c-21bb-4478-b902-e90584b726df",
   "metadata": {},
   "outputs": [
    {
     "name": "stdout",
     "output_type": "stream",
     "text": [
      "[1, 0, 9, 0, 25, 0]\n"
     ]
    }
   ],
   "source": [
    "# Given a list of numbers, create a new list that contains the square of each number if it is positive, and zero otherwise.\n",
    "numbers = [1, -2, 3, -4, 5, -6]\n",
    "\n",
    "new_list = [x**2 if x >0 else 0 for x in numbers]\n",
    "print(new_list)\n"
   ]
  },
  {
   "cell_type": "code",
   "execution_count": 330,
   "id": "ce0b3aeb-b06c-40a6-97ff-bf34a6c464cb",
   "metadata": {},
   "outputs": [
    {
     "name": "stdout",
     "output_type": "stream",
     "text": [
      "['e', 'o', 'o']\n"
     ]
    }
   ],
   "source": [
    "# Write a list comprehension to extract all the vowels from a given string.\n",
    "\n",
    "input_string = \"hello world\"\n",
    "vowels = [i for i in input_string if i.lower() in 'aeiou']\n",
    "print(vowels)"
   ]
  },
  {
   "cell_type": "code",
   "execution_count": 334,
   "id": "c73441ef-4be7-4072-89d2-9d1fc21baf22",
   "metadata": {},
   "outputs": [
    {
     "name": "stdout",
     "output_type": "stream",
     "text": [
      "[1, 3, 6, 10, 15, 21]\n"
     ]
    }
   ],
   "source": [
    "# Running Sum on list, Write a program to print a list after performing running sum on it\n",
    "#Input:\n",
    "\n",
    "#list1 = [1,2,3,4,5,6]\n",
    "\n",
    "#Output:\n",
    "\n",
    "#[1,3,6,10,15,21]\n",
    "\n",
    "list = [1,2,3,4,5,6]\n",
    "\n",
    "for i in range(1, len(list)):\n",
    "    list[i] = list[i] + list[i-1]\n",
    "\n",
    "print(list)\n",
    "    \n",
    "    "
   ]
  },
  {
   "cell_type": "code",
   "execution_count": 342,
   "id": "8c1686dc-b2d4-4f7a-812f-bc53a309dd81",
   "metadata": {},
   "outputs": [
    {
     "data": {
      "text/plain": [
       "[67, 89, 34]"
      ]
     },
     "execution_count": 342,
     "metadata": {},
     "output_type": "execute_result"
    }
   ],
   "source": [
    "# Find list of common unique items from two list. and show in increasing order\n",
    "\n",
    "num1 = [23,45,67,78,89,34] \n",
    "num2 = [34,89,55,56,39,67]\n",
    "\n",
    "def common_ele(a,b):\n",
    "    return [x for x in num1 if x in num2]\n",
    "\n",
    "common_ele(num1, num2)\n"
   ]
  },
  {
   "cell_type": "code",
   "execution_count": 351,
   "id": "42a45ff4-7f50-4910-9f7d-e03e7893a61a",
   "metadata": {},
   "outputs": [
    {
     "name": "stdout",
     "output_type": "stream",
     "text": [
      "{1, 2, 3, 4, 5, 7, 8}\n"
     ]
    }
   ],
   "source": [
    "# Write a program that can perform union operation on 2 lists\n",
    "list1 = [1, 2, 3, 4, 5, 1]\n",
    "list2 = [2, 3, 5, 7, 8]\n",
    "\n",
    "result =set(list1) | set(list2)\n",
    "print(result)"
   ]
  },
  {
   "cell_type": "code",
   "execution_count": 352,
   "id": "04f6c9cd-d8cb-4748-8639-a2c2ae3fc249",
   "metadata": {},
   "outputs": [],
   "source": [
    "\n",
    "# list1 = [1, 2, 3, 4, 5, 1]\n",
    "# list2 = [2, 3, 5, 7, 8]\n",
    "\n",
    "# # Perform union operation\n",
    "# union_result = list(set(list1) | set(list2))\n",
    "\n",
    "# print(union_result)"
   ]
  },
  {
   "cell_type": "code",
   "execution_count": 353,
   "id": "6cb6656d-0c06-4277-bcba-ac8f1b10e309",
   "metadata": {},
   "outputs": [
    {
     "name": "stdout",
     "output_type": "stream",
     "text": [
      "[3, 6, 9]\n"
     ]
    }
   ],
   "source": [
    "#  Write a program that can find the max number of each row of a matrix\n",
    "matrix = [\n",
    "    [1, 2, 3],\n",
    "    [4, 5, 6],\n",
    "    [7, 8, 9]\n",
    "]\n",
    "\n",
    "max_num = [max(row) for row in matrix]\n",
    "print(max_num)"
   ]
  },
  {
   "cell_type": "code",
   "execution_count": 360,
   "id": "92503855-4139-4bb3-a224-ac292f24b145",
   "metadata": {},
   "outputs": [
    {
     "name": "stdout",
     "output_type": "stream",
     "text": [
      "t1 and t2 are the same\n"
     ]
    }
   ],
   "source": [
    "# Check is tuples are same or not? -- Two tuples would be same if both tuples have same element at same index\n",
    "\n",
    "t1 = (1,2,3,0)\n",
    "t2 = (1,2,3,0)\n",
    "\n",
    "def is_tup_same(a,b):\n",
    "    if len(a) != len(b):\n",
    "        return False\n",
    "    for i in range(len(a)):\n",
    "        if a[i] != b[i]:\n",
    "            return False\n",
    "        else:\n",
    "            return True\n",
    "    \n",
    "if is_tup_same(t1,t2):\n",
    "    print('t1 and t2 are the same')\n",
    "    \n",
    "else:\n",
    "    print('t1 and t2 are not same')\n",
    "\n",
    "\n",
    "    \n",
    "        "
   ]
  },
  {
   "cell_type": "code",
   "execution_count": 361,
   "id": "3d12d567-0590-42ba-881a-4e48d7785be8",
   "metadata": {},
   "outputs": [
    {
     "ename": "TypeError",
     "evalue": "isinstance() arg 2 must be a type, a tuple of types, or a union",
     "output_type": "error",
     "traceback": [
      "\u001b[0;31m---------------------------------------------------------------------------\u001b[0m",
      "\u001b[0;31mTypeError\u001b[0m                                 Traceback (most recent call last)",
      "Cell \u001b[0;32mIn[361], line 11\u001b[0m\n\u001b[1;32m      9\u001b[0m \u001b[38;5;28;01mif\u001b[39;00m \u001b[38;5;28misinstance\u001b[39m(ele, \u001b[38;5;28mtuple\u001b[39m):\n\u001b[1;32m     10\u001b[0m     tuple_count \u001b[38;5;241m+\u001b[39m\u001b[38;5;241m=\u001b[39m \u001b[38;5;241m1\u001b[39m\n\u001b[0;32m---> 11\u001b[0m \u001b[38;5;28;01mif\u001b[39;00m \u001b[38;5;28misinstance\u001b[39m(ele, \u001b[38;5;28mlist\u001b[39m):\n\u001b[1;32m     12\u001b[0m     list_count \u001b[38;5;241m+\u001b[39m\u001b[38;5;241m=\u001b[39m \u001b[38;5;241m1\u001b[39m\n\u001b[1;32m     13\u001b[0m \u001b[38;5;28;01mif\u001b[39;00m \u001b[38;5;28misinstance\u001b[39m(ele, \u001b[38;5;28mset\u001b[39m):\n",
      "\u001b[0;31mTypeError\u001b[0m: isinstance() arg 2 must be a type, a tuple of types, or a union"
     ]
    }
   ],
   "source": [
    "# Count no of tuples, list and set from a list\n",
    "\n",
    "list1 = [{'hi', 'bye'}, {'Geeks', 'forGeeks'}, ('a', 'b'), ['hi', 'bye'], ['a', 'b']]\n",
    "\n",
    "tuple_count = 0\n",
    "list_count = 0\n",
    "set_count = 0\n",
    "for ele in list1:\n",
    "    if isinstance(ele, tuple):\n",
    "        tuple_count += 1\n",
    "    if isinstance(ele, list):\n",
    "        list_count += 1\n",
    "    if isinstance(ele, set):\n",
    "        set_count += 1\n",
    "\n",
    "print(\"Tuple count:\", tuple_count)\n",
    "print(\"list count:\", list_count)\n",
    "print(\"set count:\", set_count)\n",
    "    "
   ]
  },
  {
   "cell_type": "code",
   "execution_count": 366,
   "id": "4c544844-e0e3-4cc6-a28e-e91926f8d8d0",
   "metadata": {},
   "outputs": [
    {
     "name": "stdout",
     "output_type": "stream",
     "text": [
      "{80, 20}\n"
     ]
    }
   ],
   "source": [
    "# Write a program to find set of common elements in three lists using sets.\n",
    "arr1 = [1,5,10,20,40,80]\n",
    "arr2 = [6,7,20,80,100]\n",
    "arr3 = [3,4,15,20,30,70,80,120]\n",
    "\n",
    "a = set(arr1)\n",
    "b = set(arr2)\n",
    "c=set(arr3)\n",
    "\n",
    "common_elements = a.intersection(b, c)\n",
    "print(common_elements)"
   ]
  },
  {
   "cell_type": "code",
   "execution_count": 369,
   "id": "fd7386e2-7585-4811-acbe-26ee97b39366",
   "metadata": {},
   "outputs": [
    {
     "name": "stdout",
     "output_type": "stream",
     "text": [
      "{1, 2, 3, 4, 5}\n"
     ]
    }
   ],
   "source": [
    "# Write a Python function that takes a list and returns a new list with unique elements of the first list.\n",
    "\n",
    "def unique_list(list):\n",
    "    new_list = set(list)\n",
    "    return (new_list)\n",
    "\n",
    "list = [1,2,3,3,3,3,4,5]\n",
    "result = unique_list(list)\n",
    "print(result)\n",
    "    "
   ]
  },
  {
   "cell_type": "code",
   "execution_count": 383,
   "id": "3bc348a9-221c-4306-aa51-0555fcd35708",
   "metadata": {},
   "outputs": [
    {
     "ename": "TypeError",
     "evalue": "'NoneType' object is not callable",
     "output_type": "error",
     "traceback": [
      "\u001b[0;31m---------------------------------------------------------------------------\u001b[0m",
      "\u001b[0;31mTypeError\u001b[0m                                 Traceback (most recent call last)",
      "Cell \u001b[0;32mIn[383], line 18\u001b[0m\n\u001b[1;32m     16\u001b[0m \u001b[38;5;66;03m# Example \u001b[39;00m\n\u001b[1;32m     17\u001b[0m input_sequence \u001b[38;5;241m=\u001b[39m \u001b[38;5;124m\"\u001b[39m\u001b[38;5;124mgreen-red-yellow-black-white\u001b[39m\u001b[38;5;124m\"\u001b[39m\n\u001b[0;32m---> 18\u001b[0m output_sequence \u001b[38;5;241m=\u001b[39m sort_words(input_sequence)\n\u001b[1;32m     19\u001b[0m \u001b[38;5;28mprint\u001b[39m(output_sequence)\n",
      "Cell \u001b[0;32mIn[383], line 9\u001b[0m, in \u001b[0;36msort_words\u001b[0;34m(input_sequence)\u001b[0m\n\u001b[1;32m      6\u001b[0m words_list \u001b[38;5;241m=\u001b[39m input_sequence\u001b[38;5;241m.\u001b[39msplit(\u001b[38;5;124m'\u001b[39m\u001b[38;5;124m-\u001b[39m\u001b[38;5;124m'\u001b[39m)\n\u001b[1;32m      8\u001b[0m \u001b[38;5;66;03m# Sort the list of words alphabetically\u001b[39;00m\n\u001b[0;32m----> 9\u001b[0m sorted_words \u001b[38;5;241m=\u001b[39m \u001b[38;5;28msorted\u001b[39m(words_list)\n\u001b[1;32m     11\u001b[0m \u001b[38;5;66;03m# Join the sorted words into a hyphen-separated sequence\u001b[39;00m\n\u001b[1;32m     12\u001b[0m result_sequence \u001b[38;5;241m=\u001b[39m \u001b[38;5;124m'\u001b[39m\u001b[38;5;124m-\u001b[39m\u001b[38;5;124m'\u001b[39m\u001b[38;5;241m.\u001b[39mjoin(sorted_words)\n",
      "\u001b[0;31mTypeError\u001b[0m: 'NoneType' object is not callable"
     ]
    }
   ],
   "source": [
    "# Write a Python function that accepts a hyphen-separated sequence of words as parameter \n",
    "# and returns the words in a hyphen-separated sequence after sorting them alphabetically\n",
    "\n",
    "def sort_words(input_sequence):\n",
    "    # Split the hyphen-separated sequence into a list of words\n",
    "    words_list = input_sequence.split('-')\n",
    "    \n",
    "    # Sort the list of words alphabetically\n",
    "    sorted_words = sorted(words_list)\n",
    "    \n",
    "    # Join the sorted words into a hyphen-separated sequence\n",
    "    result_sequence = '-'.join(sorted_words)\n",
    "    \n",
    "    return result_sequence\n",
    "\n",
    "# Example \n",
    "input_sequence = \"green-red-yellow-black-white\"\n",
    "output_sequence = sort_words(input_sequence)\n",
    "print(output_sequence)\n"
   ]
  },
  {
   "cell_type": "code",
   "execution_count": 392,
   "id": "308a79cc-1aa9-4eb3-8d93-63a6653ea690",
   "metadata": {},
   "outputs": [
    {
     "name": "stdout",
     "output_type": "stream",
     "text": [
      "[2, 4, 6, 8]\n"
     ]
    }
   ],
   "source": [
    "# Write a Python program to print the even numbers from a given list.\n",
    "\n",
    "def even_num(sample):\n",
    "    return [x for x in sample if x%2 == 0]\n",
    "\n",
    "sample = [1, 2, 3, 4, 5, 6, 7, 8, 9]\n",
    "print(even_num(sample))"
   ]
  },
  {
   "cell_type": "code",
   "execution_count": 398,
   "id": "7b1b3848-1c9f-4d5a-8278-c9e591eb4c1a",
   "metadata": {},
   "outputs": [
    {
     "name": "stdout",
     "output_type": "stream",
     "text": [
      "{1: 10, 2: 20, 3: 30, 4: 40, 5: 50, 6: 60}\n"
     ]
    }
   ],
   "source": [
    "# Write a Python function to concatenate any no of dictionaries to create a new one.\n",
    "\n",
    "def concatinate_dictonaries(*dict):\n",
    "    dict_4 = {}\n",
    "    for d in dict:\n",
    "        dict_4.update(d)\n",
    "    return dict_4\n",
    "        \n",
    "\n",
    "dic1={1:10, 2:20}\n",
    "dic2={3:30, 4:40}\n",
    "dic3={5:50,6:60}\n",
    "\n",
    "result = concatinate_dictonaries(dic1, dic2,dic3)\n",
    "print(result)"
   ]
  },
  {
   "cell_type": "code",
   "execution_count": 405,
   "id": "d18a6675-7e78-433e-9f92-785821826a09",
   "metadata": {},
   "outputs": [
    {
     "ename": "TypeError",
     "evalue": "'NoneType' object is not callable",
     "output_type": "error",
     "traceback": [
      "\u001b[0;31m---------------------------------------------------------------------------\u001b[0m",
      "\u001b[0;31mTypeError\u001b[0m                                 Traceback (most recent call last)",
      "Cell \u001b[0;32mIn[405], line 7\u001b[0m\n\u001b[1;32m      5\u001b[0m list1 \u001b[38;5;241m=\u001b[39m [\u001b[38;5;241m1\u001b[39m, \u001b[38;5;241m3\u001b[39m, \u001b[38;5;241m5\u001b[39m]\n\u001b[1;32m      6\u001b[0m list2 \u001b[38;5;241m=\u001b[39m [\u001b[38;5;241m2\u001b[39m, \u001b[38;5;241m4\u001b[39m, \u001b[38;5;241m6\u001b[39m]\n\u001b[0;32m----> 7\u001b[0m result \u001b[38;5;241m=\u001b[39m merge_sorted_lists(list1, list2)\n\u001b[1;32m      8\u001b[0m \u001b[38;5;28mprint\u001b[39m(result)\n",
      "Cell \u001b[0;32mIn[405], line 2\u001b[0m, in \u001b[0;36mmerge_sorted_lists\u001b[0;34m(list1, list2)\u001b[0m\n\u001b[1;32m      1\u001b[0m \u001b[38;5;28;01mdef\u001b[39;00m \u001b[38;5;21mmerge_sorted_lists\u001b[39m(list1, list2):\n\u001b[0;32m----> 2\u001b[0m     merged_list \u001b[38;5;241m=\u001b[39m \u001b[38;5;28msorted\u001b[39m(list1 \u001b[38;5;241m+\u001b[39m list2)\n\u001b[1;32m      3\u001b[0m     \u001b[38;5;28;01mreturn\u001b[39;00m merged_list\n",
      "\u001b[0;31mTypeError\u001b[0m: 'NoneType' object is not callable"
     ]
    }
   ],
   "source": [
    "def merge_sorted_lists(list1, list2):\n",
    "    merged_list = sorted(list1 + list2)\n",
    "    return merged_list\n",
    "\n",
    "list1 = [1, 3, 5]\n",
    "list2 = [2, 4, 6]\n",
    "result = merge_sorted_lists(list1, list2)\n",
    "print(result)"
   ]
  },
  {
   "cell_type": "code",
   "execution_count": null,
   "id": "e5bd9ec4-5c67-41b3-a929-eb011ca0a85c",
   "metadata": {},
   "outputs": [],
   "source": []
  },
  {
   "cell_type": "code",
   "execution_count": null,
   "id": "a06d780b-5c28-4a99-83a4-c1f0effd5597",
   "metadata": {},
   "outputs": [],
   "source": []
  },
  {
   "cell_type": "code",
   "execution_count": null,
   "id": "45d5f353-362f-480a-abdf-2e6257a2fe8e",
   "metadata": {},
   "outputs": [],
   "source": []
  },
  {
   "cell_type": "code",
   "execution_count": null,
   "id": "b9319e89-e916-470b-84ac-fbb0e5388bea",
   "metadata": {},
   "outputs": [],
   "source": []
  },
  {
   "cell_type": "code",
   "execution_count": null,
   "id": "741f6b3e-a9e6-4506-80d0-83713f3a86b3",
   "metadata": {},
   "outputs": [],
   "source": []
  },
  {
   "cell_type": "code",
   "execution_count": null,
   "id": "7a345d5a-4878-4886-944a-027c4f12a591",
   "metadata": {},
   "outputs": [],
   "source": []
  },
  {
   "cell_type": "code",
   "execution_count": null,
   "id": "8b76bd39-2c08-4dee-84b2-e95159c728df",
   "metadata": {},
   "outputs": [],
   "source": []
  }
 ],
 "metadata": {
  "kernelspec": {
   "display_name": "Python 3 (ipykernel)",
   "language": "python",
   "name": "python3"
  },
  "language_info": {
   "codemirror_mode": {
    "name": "ipython",
    "version": 3
   },
   "file_extension": ".py",
   "mimetype": "text/x-python",
   "name": "python",
   "nbconvert_exporter": "python",
   "pygments_lexer": "ipython3",
   "version": "3.11.7"
  }
 },
 "nbformat": 4,
 "nbformat_minor": 5
}
